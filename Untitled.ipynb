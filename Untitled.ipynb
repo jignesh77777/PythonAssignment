{
 "cells": [
  {
   "cell_type": "markdown",
   "id": "88e0ec21-1b1c-419b-aaa7-f25dd95523b9",
   "metadata": {},
   "source": [
    "For Loop :-\n"
   ]
  },
  {
   "cell_type": "markdown",
   "id": "419d5096-1ffe-4abf-8f49-b83494d47542",
   "metadata": {},
   "source": [
    "Write a Python program to print numbers from 1 to 10 using a for loop."
   ]
  },
  {
   "cell_type": "markdown",
   "id": "c41d15a4-0cb4-4fb1-b7c6-0f408cd0d5ed",
   "metadata": {},
   "source": [
    "Ans."
   ]
  },
  {
   "cell_type": "code",
   "execution_count": 1,
   "id": "48fb34f6-8598-421e-b2b6-dd43adb397ae",
   "metadata": {},
   "outputs": [
    {
     "name": "stdout",
     "output_type": "stream",
     "text": [
      "0\n",
      "1\n",
      "2\n",
      "3\n",
      "4\n",
      "5\n",
      "6\n",
      "7\n",
      "8\n",
      "9\n",
      "10\n"
     ]
    }
   ],
   "source": [
    "for i  in range(11):\n",
    "    print(i)"
   ]
  },
  {
   "cell_type": "markdown",
   "id": "d97c3157-8b22-4b53-b796-51a0d8525492",
   "metadata": {},
   "source": [
    "Explain the difference between a for loop and a while loop in Python."
   ]
  },
  {
   "cell_type": "markdown",
   "id": "fb08fcb2-c802-4d85-ad03-86bd70b35d65",
   "metadata": {},
   "source": [
    "Ans."
   ]
  },
  {
   "cell_type": "raw",
   "id": "ec581e14-89f9-40f5-a349-5bf597a0f3ae",
   "metadata": {},
   "source": [
    "for loop- is used when we know the exact iteration in the for loop such as we want to iterate over an element\n",
    "of sequence like list, tuple, dictionary.\n",
    "while loop- \n",
    "while loop is used when we dont know the number of the iteration the loop is running till the condiiton is break"
   ]
  },
  {
   "cell_type": "code",
   "execution_count": null,
   "id": "1da1d9d6-b9e2-4ec0-b6a6-929352e38cec",
   "metadata": {},
   "outputs": [],
   "source": []
  },
  {
   "cell_type": "markdown",
   "id": "d193027a-8d62-4352-87d4-974fc602a72e",
   "metadata": {},
   "source": [
    "Write a Python program to calculate the sum of all numbers from 1 to 100 using a for loop."
   ]
  },
  {
   "cell_type": "markdown",
   "id": "642fcea1-781d-414b-b0b8-7f560baf3092",
   "metadata": {},
   "source": [
    "ANS."
   ]
  },
  {
   "cell_type": "code",
   "execution_count": 2,
   "id": "40eadd94-b919-4507-9cf6-831d2f03dbe7",
   "metadata": {},
   "outputs": [
    {
     "name": "stdout",
     "output_type": "stream",
     "text": [
      "the sum  of the number from 0 to 100 is 5050\n"
     ]
    }
   ],
   "source": [
    "total_sum=0\n",
    "for num  in range(1,101):\n",
    "    total_sum+=num\n",
    "print(f\"the sum  of the number from 0 to 100 is {total_sum}\")"
   ]
  },
  {
   "cell_type": "code",
   "execution_count": null,
   "id": "eb0e50f0-a78d-4421-9dee-7306fb5c6eae",
   "metadata": {},
   "outputs": [],
   "source": []
  },
  {
   "cell_type": "markdown",
   "id": "6f681070-8b4b-49e1-96b0-645e761e0382",
   "metadata": {},
   "source": [
    "How do you iterate through a list using a for loop in Python?"
   ]
  },
  {
   "cell_type": "markdown",
   "id": "ac611b5a-c655-4426-8666-f2201762ff72",
   "metadata": {},
   "source": [
    "Ans."
   ]
  },
  {
   "cell_type": "code",
   "execution_count": 3,
   "id": "eb17a4f5-4dda-4c1a-a994-553fc00451d5",
   "metadata": {},
   "outputs": [
    {
     "name": "stdout",
     "output_type": "stream",
     "text": [
      "1\n",
      "jignesh\n",
      "4\n",
      "5\n",
      "6\n",
      "rohit\n"
     ]
    }
   ],
   "source": [
    "My_list=[1,\"jignesh\",4,5,6,\"rohit\"]\n",
    "for item in My_list:\n",
    "    print(item)"
   ]
  },
  {
   "cell_type": "code",
   "execution_count": null,
   "id": "e19f861a-2533-4b59-bc8d-c80d52adce04",
   "metadata": {},
   "outputs": [],
   "source": []
  },
  {
   "cell_type": "markdown",
   "id": "5019c4f7-c7e7-4052-baab-f21883ab75ff",
   "metadata": {},
   "source": [
    "Write a Python program to find the product of all elements in a list using a for loop.\n"
   ]
  },
  {
   "cell_type": "markdown",
   "id": "e5aee84e-1950-4baf-ac9c-735f9136e911",
   "metadata": {},
   "source": [
    "Ans."
   ]
  },
  {
   "cell_type": "code",
   "execution_count": 4,
   "id": "9621e126-aefa-4368-bfdf-992fa9726ee7",
   "metadata": {},
   "outputs": [
    {
     "name": "stdout",
     "output_type": "stream",
     "text": [
      "336\n"
     ]
    }
   ],
   "source": [
    "My_list=[1,2,4,6,7]\n",
    "total_product=1\n",
    "for element in My_list:\n",
    "    total_product *= element\n",
    "print(total_product)"
   ]
  },
  {
   "cell_type": "code",
   "execution_count": null,
   "id": "0d8b2f61-1ac1-4373-942c-a78031e2c82c",
   "metadata": {},
   "outputs": [],
   "source": [
    "\n"
   ]
  },
  {
   "cell_type": "markdown",
   "id": "d3cb9520-d051-4fa2-99ea-2cb5bf290212",
   "metadata": {},
   "source": [
    "Create a Python program that prints all even numbers from 1 to 20 using a for loop.\n"
   ]
  },
  {
   "cell_type": "markdown",
   "id": "8e3b2bb9-cd9d-4fc4-be5c-c97c39150101",
   "metadata": {},
   "source": [
    "Ans."
   ]
  },
  {
   "cell_type": "code",
   "execution_count": 5,
   "id": "0b8dcf3c-5c2a-41fb-b9d6-ad872fc62b05",
   "metadata": {},
   "outputs": [
    {
     "name": "stdout",
     "output_type": "stream",
     "text": [
      "2\n",
      "4\n",
      "6\n",
      "8\n",
      "10\n",
      "12\n",
      "14\n",
      "16\n",
      "18\n",
      "20\n"
     ]
    }
   ],
   "source": [
    "for i in range(1,21):\n",
    "    if i%2==0 :\n",
    "        print(i)"
   ]
  },
  {
   "cell_type": "code",
   "execution_count": null,
   "id": "602f1f8a-6b23-47d2-b7d9-24b740cc6af1",
   "metadata": {},
   "outputs": [],
   "source": []
  },
  {
   "cell_type": "markdown",
   "id": "c964d963-a02f-4858-abdf-99ecf2480db8",
   "metadata": {},
   "source": [
    "Write a Python program that calculates the factorial of a number using a for loop.\n"
   ]
  },
  {
   "cell_type": "markdown",
   "id": "518f51b8-78cd-4455-bc65-1d3773f30706",
   "metadata": {},
   "source": [
    "Ans."
   ]
  },
  {
   "cell_type": "code",
   "execution_count": 6,
   "id": "a1e999f6-893d-41e2-824d-8f22689746ca",
   "metadata": {},
   "outputs": [],
   "source": [
    "def calculate_factorial(number):\n",
    "    if number < 0:\n",
    "        return \"Factorial is not defined for negative numbers\"\n",
    "    elif number == 0 or number == 1:\n",
    "        return 1\n",
    "    else:\n",
    "        factorial_result = 1\n",
    "        for i in range(2, number + 1):\n",
    "            factorial_result *= i\n",
    "        return factorial_result\n",
    "\n"
   ]
  },
  {
   "cell_type": "code",
   "execution_count": 7,
   "id": "9cf37e5b-84c0-445a-9bf9-6b382570c803",
   "metadata": {},
   "outputs": [
    {
     "name": "stdin",
     "output_type": "stream",
     "text": [
      "Enter a number to calculate its factorial:  5\n"
     ]
    },
    {
     "name": "stdout",
     "output_type": "stream",
     "text": [
      "The factorial of 5 is: 120\n"
     ]
    }
   ],
   "source": [
    "user_input = int(input(\"Enter a number to calculate its factorial: \"))\n",
    "result = calculate_factorial(user_input)\n",
    "print(f\"The factorial of {user_input} is: {result}\")"
   ]
  },
  {
   "cell_type": "code",
   "execution_count": null,
   "id": "8c7eeac9-385f-4dd9-b710-027b087669d2",
   "metadata": {},
   "outputs": [],
   "source": []
  },
  {
   "cell_type": "markdown",
   "id": "687fec4d-b294-4d7a-bee2-446e8dd8e4ed",
   "metadata": {},
   "source": [
    "How can you iterate through the characters of a string using a for loop in Python?\n"
   ]
  },
  {
   "cell_type": "markdown",
   "id": "0e16f462-071a-406a-b114-062a9bbc3035",
   "metadata": {},
   "source": [
    "Ans."
   ]
  },
  {
   "cell_type": "code",
   "execution_count": 8,
   "id": "12b360d0-7c13-4097-82d1-519c3e8ba237",
   "metadata": {},
   "outputs": [
    {
     "name": "stdout",
     "output_type": "stream",
     "text": [
      "j\n",
      "i\n",
      "g\n",
      "n\n",
      "e\n",
      "s\n",
      "h\n"
     ]
    }
   ],
   "source": [
    "str='jignesh'\n",
    "for char in str:\n",
    "    print(char)"
   ]
  },
  {
   "cell_type": "markdown",
   "id": "39997313-1ffb-4285-968d-cda240c1eb2c",
   "metadata": {},
   "source": [
    "Write a Python program to find the largest number in a list using a for loop."
   ]
  },
  {
   "cell_type": "markdown",
   "id": "0759456e-9b47-492f-b4ef-e5d1fcb41efa",
   "metadata": {},
   "source": [
    "Ans."
   ]
  },
  {
   "cell_type": "code",
   "execution_count": 9,
   "id": "0764f39c-ff41-4589-a1bd-bcd5446d11d9",
   "metadata": {},
   "outputs": [
    {
     "name": "stdout",
     "output_type": "stream",
     "text": [
      "67\n"
     ]
    }
   ],
   "source": [
    "list=[1,2,4,67,8,9]\n",
    "max_num=0\n",
    "for num in list:\n",
    "    if num>max_num:\n",
    "        max_num=num\n",
    "print(max_num)"
   ]
  },
  {
   "cell_type": "markdown",
   "id": "8ba952df-e746-4f0e-91d8-3f8380474e4e",
   "metadata": {},
   "source": [
    "Create a Python program that prints the Fibonacci sequence up to a specified limit using a for loop"
   ]
  },
  {
   "cell_type": "markdown",
   "id": "34477214-d717-494d-8081-39803d9503fc",
   "metadata": {},
   "source": [
    "Ans."
   ]
  },
  {
   "cell_type": "code",
   "execution_count": 10,
   "id": "d8e58820-cace-41e6-8962-4d249afca552",
   "metadata": {},
   "outputs": [],
   "source": [
    "def fibonacci_seq(limit):\n",
    "    fib_num=[0,1]\n",
    "    for i in range(2,limit):\n",
    "        next_num=fib_num[-1] + fib_num[-2]\n",
    "        if next_num>limit:\n",
    "            break\n",
    "        fib_num.append(next_num)\n",
    "    return fib_num"
   ]
  },
  {
   "cell_type": "code",
   "execution_count": 11,
   "id": "9bf79bb0-c147-4b7b-b1e6-f4e2f8f7628c",
   "metadata": {},
   "outputs": [
    {
     "name": "stdout",
     "output_type": "stream",
     "text": [
      "[0, 1, 1, 2, 3, 5, 8]\n"
     ]
    }
   ],
   "source": [
    "ressull=fibonacci_seq(10)\n",
    "print(ressull)"
   ]
  },
  {
   "cell_type": "code",
   "execution_count": null,
   "id": "50ddb445-e6e2-4caf-8920-104f9940f70e",
   "metadata": {},
   "outputs": [],
   "source": []
  },
  {
   "cell_type": "markdown",
   "id": "51eb9495-0dad-4f4c-a923-2665416cdcbf",
   "metadata": {},
   "source": [
    "Write a Python program to count the number of vowels in a given string using a for loop.\n"
   ]
  },
  {
   "cell_type": "markdown",
   "id": "34d6a3f8-f588-42f4-9023-fadae980e784",
   "metadata": {},
   "source": [
    "Ans."
   ]
  },
  {
   "cell_type": "code",
   "execution_count": 12,
   "id": "f5e5972c-2f85-4dc9-bfb6-0817c0f5e615",
   "metadata": {},
   "outputs": [],
   "source": [
    "def count_vowels(input_string):\n",
    "    vowels = \"aeiouAEIOU\"\n",
    "    count=0\n",
    "    for char in input_string:\n",
    "        if char in vowels:\n",
    "            count+=1\n",
    "    return count"
   ]
  },
  {
   "cell_type": "code",
   "execution_count": 13,
   "id": "2b0f9d32-7b68-47f0-a34b-b47c8839ff21",
   "metadata": {},
   "outputs": [
    {
     "name": "stdout",
     "output_type": "stream",
     "text": [
      "4\n"
     ]
    }
   ],
   "source": [
    "result=count_vowels(\"jignesh rajput\")\n",
    "print(result)"
   ]
  },
  {
   "cell_type": "code",
   "execution_count": null,
   "id": "9ae6d660-caab-4c28-8514-d93061990310",
   "metadata": {},
   "outputs": [],
   "source": []
  },
  {
   "cell_type": "markdown",
   "id": "7981b28d-9ece-4068-ad81-dec7902c96ff",
   "metadata": {},
   "source": [
    "Create a Python program that generates a multiplication table for a given number using a for loop"
   ]
  },
  {
   "cell_type": "markdown",
   "id": "0998ded9-155f-4e82-aa20-278ed0950283",
   "metadata": {},
   "source": [
    "Ans."
   ]
  },
  {
   "cell_type": "code",
   "execution_count": 14,
   "id": "a7e73a89-e6cb-4728-966d-60c02dc718ad",
   "metadata": {},
   "outputs": [
    {
     "name": "stdout",
     "output_type": "stream",
     "text": [
      "2 * 1 =2\n",
      "2 * 2 =4\n",
      "2 * 3 =6\n",
      "2 * 4 =8\n",
      "2 * 5 =10\n",
      "2 * 6 =12\n",
      "2 * 7 =14\n",
      "2 * 8 =16\n",
      "2 * 9 =18\n",
      "2 * 10 =20\n",
      "None\n"
     ]
    }
   ],
   "source": [
    "def multiply_table(number,limit):\n",
    "    for i in range(1,limit+1):\n",
    "        result=number*i\n",
    "        print(f\"{number} * {i} ={result}\")\n",
    "result=multiply_table(2,10)\n",
    "print(result)"
   ]
  },
  {
   "cell_type": "code",
   "execution_count": null,
   "id": "7515ce75-1cf9-438a-b30d-660abf168e5b",
   "metadata": {},
   "outputs": [],
   "source": []
  },
  {
   "cell_type": "markdown",
   "id": "3680f3f7-1183-4a7a-843f-394c199806bf",
   "metadata": {},
   "source": [
    "Write a Python program to reverse a list using a for loop"
   ]
  },
  {
   "cell_type": "markdown",
   "id": "8dfc29a0-60f2-4bc3-bd52-90e638db89d6",
   "metadata": {},
   "source": [
    "Ans."
   ]
  },
  {
   "cell_type": "code",
   "execution_count": 15,
   "id": "e67064f2-7914-4f59-a9fa-fe27f952f136",
   "metadata": {},
   "outputs": [],
   "source": [
    "def reverse_list(input_list):\n",
    "    reversed_list = []\n",
    "\n",
    "    # Iterate over the input_list in reverse order using a for loop\n",
    "    for item in reversed(input_list):\n",
    "        reversed_list.append(item)\n",
    "\n",
    "    return reversed_list"
   ]
  },
  {
   "cell_type": "code",
   "execution_count": 16,
   "id": "63b4d348-43a6-4965-a7a3-32af6b91df79",
   "metadata": {},
   "outputs": [
    {
     "name": "stdout",
     "output_type": "stream",
     "text": [
      "[7, 6, 5, 4, 3, 23, 1]\n"
     ]
    }
   ],
   "source": [
    "output=reverse_list([1,23,3,4,5,6,7])\n",
    "print(output)"
   ]
  },
  {
   "cell_type": "code",
   "execution_count": null,
   "id": "5bafb873-39a8-4fc8-8bbe-6f29daefa80e",
   "metadata": {},
   "outputs": [],
   "source": []
  },
  {
   "cell_type": "markdown",
   "id": "e0471244-a749-4e20-b227-760daee4b085",
   "metadata": {},
   "source": [
    "Write a Python program to find the common elements between two lists using a for loop."
   ]
  },
  {
   "cell_type": "markdown",
   "id": "b1799517-b211-445c-89a9-3ce453aa65d1",
   "metadata": {},
   "source": [
    "Ans."
   ]
  },
  {
   "cell_type": "code",
   "execution_count": 17,
   "id": "e92e0d53-a987-4bd4-a3b2-6a39dbac6aa3",
   "metadata": {},
   "outputs": [
    {
     "name": "stdout",
     "output_type": "stream",
     "text": [
      "[4, 5, 8]\n"
     ]
    }
   ],
   "source": [
    "def find_common(list,list2):\n",
    "    common=[]\n",
    "    for item in list:\n",
    "        if item in list2 :\n",
    "            common.append(item)\n",
    "    return common\n",
    "result=find_common([1,2,4,5,8],[4,8,5,9])\n",
    "print(result)"
   ]
  },
  {
   "cell_type": "code",
   "execution_count": null,
   "id": "e4767f63-9f7c-405d-b927-614a5b078227",
   "metadata": {},
   "outputs": [],
   "source": []
  },
  {
   "cell_type": "markdown",
   "id": "15362d9b-8688-4464-ad69-e023fab038bb",
   "metadata": {},
   "source": [
    "Explain how to use a for loop to iterate through the keys and values of a dictionary in Python."
   ]
  },
  {
   "cell_type": "markdown",
   "id": "21a280c0-1b1a-4537-818e-9289d2dba027",
   "metadata": {},
   "source": [
    "Ans."
   ]
  },
  {
   "cell_type": "code",
   "execution_count": 18,
   "id": "211fa401-bcfe-4d0e-8f52-4092904e27c4",
   "metadata": {},
   "outputs": [
    {
     "name": "stdout",
     "output_type": "stream",
     "text": [
      "the key is : jignesh and value is 123\n",
      "the key is : rahul and value is 889\n",
      "the key is : rakesh and value is 678\n"
     ]
    }
   ],
   "source": [
    "dict={\"jignesh\":123,\"rahul\":889,\"rakesh\":678}\n",
    "for key , value in dict.items():\n",
    "    print(f\"the key is : {key} and value is {value}\")"
   ]
  },
  {
   "cell_type": "code",
   "execution_count": null,
   "id": "c8a56646-1375-43fa-949f-71c3b1781ffc",
   "metadata": {},
   "outputs": [],
   "source": []
  },
  {
   "cell_type": "markdown",
   "id": "f07de14e-0926-4f00-a39b-4c9f49f4eb96",
   "metadata": {},
   "source": [
    "Write a Python program to find the GCD (Greatest Common Divisor) of two numbers using a for loop.\n"
   ]
  },
  {
   "cell_type": "markdown",
   "id": "5671201e-784f-46ae-9969-95cc1ed2bafd",
   "metadata": {},
   "source": [
    "Ans."
   ]
  },
  {
   "cell_type": "code",
   "execution_count": 19,
   "id": "22dfabe6-691d-432c-a51a-de47d9a54b7d",
   "metadata": {},
   "outputs": [],
   "source": [
    "def find_gcd(a, b):\n",
    "    # Ensure a is greater than or equal to b\n",
    "    if b > a:\n",
    "        a, b = b, a\n",
    "\n",
    "    # Iterate from 1 to the smaller of the two numbers\n",
    "    for i in range(1, b + 1):\n",
    "        if a % i == 0 and b % i == 0:\n",
    "            gcd = i\n",
    "\n",
    "    return gcd\n"
   ]
  },
  {
   "cell_type": "code",
   "execution_count": 20,
   "id": "5d3f9f85-edd8-43f7-8a50-b3afcec1173c",
   "metadata": {},
   "outputs": [
    {
     "name": "stdout",
     "output_type": "stream",
     "text": [
      "10\n"
     ]
    }
   ],
   "source": [
    "print(find_gcd(20,10))"
   ]
  },
  {
   "cell_type": "code",
   "execution_count": null,
   "id": "d947ceb1-69bc-48ed-8e75-83116b825d6e",
   "metadata": {},
   "outputs": [],
   "source": []
  },
  {
   "cell_type": "markdown",
   "id": "407cc026-25c9-4e24-96a6-9c25929b1a87",
   "metadata": {},
   "source": [
    "Create a Python program that checks if a string is a palindrome using a for loop.\n"
   ]
  },
  {
   "cell_type": "markdown",
   "id": "04655846-9090-464d-ac8e-b070c1731089",
   "metadata": {},
   "source": [
    "Ans."
   ]
  },
  {
   "cell_type": "code",
   "execution_count": 21,
   "id": "ff9ec2f5-ec96-4f4b-888c-ee771579fade",
   "metadata": {},
   "outputs": [
    {
     "name": "stdout",
     "output_type": "stream",
     "text": [
      "False\n"
     ]
    }
   ],
   "source": [
    "\n",
    "def check_palindrome(str,si,ei):\n",
    "    \n",
    "    if si>= ei:\n",
    "        return True\n",
    "    \n",
    "    if arr[si]==arr[ei]:\n",
    "        return check_palindrome(str,si+1,ei-1)\n",
    "    else:\n",
    "        return False\n",
    "\n",
    "arr=\"1223229\"\n",
    "result=check_palindrome(str,0,len(str)-1)\n",
    "print(result)\n",
    "    "
   ]
  },
  {
   "cell_type": "code",
   "execution_count": null,
   "id": "d892794c-1c4c-437a-851b-220090d4b7e0",
   "metadata": {},
   "outputs": [],
   "source": []
  },
  {
   "cell_type": "markdown",
   "id": "460d054e-fd81-4e92-b011-b20f2dc5779c",
   "metadata": {},
   "source": [
    "Write a Python program to remove duplicates from a list using a for loop.\n"
   ]
  },
  {
   "cell_type": "markdown",
   "id": "9e9a6fd9-f586-4cd0-9719-607c684d9b16",
   "metadata": {},
   "source": [
    "Ans."
   ]
  },
  {
   "cell_type": "code",
   "execution_count": 22,
   "id": "1cd79818-8cd6-4b6a-ab2b-de952557398f",
   "metadata": {},
   "outputs": [],
   "source": [
    "def remove_duplicate(input):\n",
    "    duplicates=[]\n",
    "    for item in input:\n",
    "        if item not in duplicates:\n",
    "            duplicates.append(item)\n",
    "    return duplicates"
   ]
  },
  {
   "cell_type": "code",
   "execution_count": 23,
   "id": "508b204b-3846-41f2-8681-c6ce3b8ec54a",
   "metadata": {},
   "outputs": [
    {
     "name": "stdout",
     "output_type": "stream",
     "text": [
      "[1, 2, 3, 4, 5, 6]\n"
     ]
    }
   ],
   "source": [
    "input=[1,2,3,4,5,6,2,4]\n",
    "print(remove_duplicate(input))"
   ]
  },
  {
   "cell_type": "code",
   "execution_count": null,
   "id": "e26a8614-f5dc-46d7-8ebd-20b044b19070",
   "metadata": {},
   "outputs": [],
   "source": []
  },
  {
   "cell_type": "markdown",
   "id": "317bd576-63a3-44fa-b1e7-f62e68814082",
   "metadata": {},
   "source": [
    "Create a Python program that counts the number of words in a sentence using a for loop."
   ]
  },
  {
   "cell_type": "markdown",
   "id": "8f6a6bd7-269c-4b60-8e22-ded438cbf82e",
   "metadata": {},
   "source": [
    "Ans."
   ]
  },
  {
   "cell_type": "code",
   "execution_count": 24,
   "id": "bd5ddbb3-eb55-4ebb-bee3-7d80468922b4",
   "metadata": {},
   "outputs": [
    {
     "name": "stdout",
     "output_type": "stream",
     "text": [
      "9\n"
     ]
    }
   ],
   "source": [
    "def count_words(string):\n",
    "    count=0\n",
    "    for words in string:\n",
    "        count+=1\n",
    "        \n",
    "    return count\n",
    "output=count_words('jigneshdf')\n",
    "print(output)"
   ]
  },
  {
   "cell_type": "code",
   "execution_count": null,
   "id": "66c85fff-b8a5-4779-929f-c6796af17c48",
   "metadata": {},
   "outputs": [],
   "source": []
  },
  {
   "cell_type": "markdown",
   "id": "74aef27e-68ed-4e01-95d5-c778c8f4420e",
   "metadata": {},
   "source": [
    "Write a Python program to find the sum of all odd numbers from 1 to 50 using a for loop.\n"
   ]
  },
  {
   "cell_type": "markdown",
   "id": "e3a5792f-e9c3-4fed-957e-35e4891e5204",
   "metadata": {},
   "source": [
    "Ans."
   ]
  },
  {
   "cell_type": "code",
   "execution_count": 25,
   "id": "a9abcead-411e-47f3-a2f9-aeeec1a861f4",
   "metadata": {},
   "outputs": [
    {
     "name": "stdout",
     "output_type": "stream",
     "text": [
      "sum of the odd number form 1 to 50 is : 625\n"
     ]
    }
   ],
   "source": [
    "sum_of_numbers=0\n",
    "for number in range(1,51):\n",
    "    if number % 2 != 0 :\n",
    "        sum_of_numbers +=number\n",
    "print(f\"sum of the odd number form 1 to 50 is : {sum_of_numbers}\")"
   ]
  },
  {
   "cell_type": "code",
   "execution_count": null,
   "id": "0033845b-c7bb-484f-b78f-2395295a24c5",
   "metadata": {},
   "outputs": [],
   "source": []
  },
  {
   "cell_type": "markdown",
   "id": "feceeeb5-58a7-4e8e-9081-39f19082331d",
   "metadata": {},
   "source": [
    "Write a Python program that checks if a given year is a leap year using a for loop.\n"
   ]
  },
  {
   "cell_type": "markdown",
   "id": "b2006c47-76d5-4808-a563-3ab410a90c93",
   "metadata": {},
   "source": [
    "Ans."
   ]
  },
  {
   "cell_type": "code",
   "execution_count": 26,
   "id": "40f6a726-317c-40b8-a8ff-4955a9a3b5c5",
   "metadata": {},
   "outputs": [
    {
     "ename": "TypeError",
     "evalue": "'list' object is not callable",
     "output_type": "error",
     "traceback": [
      "\u001b[0;31m---------------------------------------------------------------------------\u001b[0m",
      "\u001b[0;31mTypeError\u001b[0m                                 Traceback (most recent call last)",
      "Cell \u001b[0;32mIn[26], line 8\u001b[0m\n\u001b[1;32m      5\u001b[0m     \u001b[38;5;28;01melse\u001b[39;00m:\n\u001b[1;32m      6\u001b[0m         \u001b[38;5;28;01mreturn\u001b[39;00m \u001b[38;5;28;01mFalse\u001b[39;00m\n\u001b[0;32m----> 8\u001b[0m start_year \u001b[38;5;241m=\u001b[39m \u001b[38;5;28mint\u001b[39m(\u001b[38;5;28;43minput\u001b[39;49m\u001b[43m(\u001b[49m\u001b[38;5;124;43m\"\u001b[39;49m\u001b[38;5;124;43mEnter the start year: \u001b[39;49m\u001b[38;5;124;43m\"\u001b[39;49m\u001b[43m)\u001b[49m)\n\u001b[1;32m      9\u001b[0m end_year \u001b[38;5;241m=\u001b[39m \u001b[38;5;28mint\u001b[39m(\u001b[38;5;28minput\u001b[39m(\u001b[38;5;124m\"\u001b[39m\u001b[38;5;124mEnter the end year: \u001b[39m\u001b[38;5;124m\"\u001b[39m))\n\u001b[1;32m     12\u001b[0m \u001b[38;5;28mprint\u001b[39m(\u001b[38;5;124m\"\u001b[39m\u001b[38;5;124mLeap years in the given range:\u001b[39m\u001b[38;5;124m\"\u001b[39m)\n",
      "\u001b[0;31mTypeError\u001b[0m: 'list' object is not callable"
     ]
    }
   ],
   "source": [
    "def is_leap_year(year):\n",
    "    \n",
    "    if (year % 4 == 0 and year % 100 != 0) or (year % 400 == 0):\n",
    "        return True\n",
    "    else:\n",
    "        return False\n",
    "\n",
    "start_year = int(input(\"Enter the start year: \"))\n",
    "end_year = int(input(\"Enter the end year: \"))\n",
    "\n",
    "\n",
    "print(\"Leap years in the given range:\")\n",
    "for year in range(start_year, end_year + 1):\n",
    "    if is_leap_year(year):\n",
    "        print(year)\n"
   ]
  },
  {
   "cell_type": "code",
   "execution_count": null,
   "id": "b5559d10-47b2-49bb-9a5d-8536ebd39de0",
   "metadata": {},
   "outputs": [],
   "source": []
  },
  {
   "cell_type": "markdown",
   "id": "1760477b-c9dc-4f8b-8ed0-6966282e8fea",
   "metadata": {},
   "source": [
    "Create a Python program that calculates the square root of a number using a for loop.\n"
   ]
  },
  {
   "cell_type": "markdown",
   "id": "026177aa-8a92-4693-bfbd-4fb5729a43c3",
   "metadata": {},
   "source": [
    "Ans."
   ]
  },
  {
   "cell_type": "code",
   "execution_count": null,
   "id": "1ee5f539-890f-42ba-9f62-e27b22b7b32b",
   "metadata": {},
   "outputs": [],
   "source": [
    "def square_root(n):\n",
    "    for number in range (n):\n",
    "        if number ==int:\n",
    "            2**number\n",
    "    return number\n",
    "n=int(input(\"enter the number: \"))\n",
    "output=square_root(n)\n",
    "print(output)"
   ]
  },
  {
   "cell_type": "code",
   "execution_count": null,
   "id": "e6e6d132-4540-45a6-8ed3-4255027ebab7",
   "metadata": {},
   "outputs": [],
   "source": []
  },
  {
   "cell_type": "markdown",
   "id": "184b1f50-14c8-4c68-a5ad-e36dc4e3f39f",
   "metadata": {},
   "source": [
    "IF ELSE"
   ]
  },
  {
   "cell_type": "markdown",
   "id": "feb8268a-84d4-436b-b938-6b4453e8a872",
   "metadata": {},
   "source": [
    "Write a Python program to check if a number is positive, negative, or zero using an if-else statement"
   ]
  },
  {
   "cell_type": "markdown",
   "id": "2e2a1d12-6f9d-49f5-823c-0ba24f07f403",
   "metadata": {},
   "source": [
    "Ans."
   ]
  },
  {
   "cell_type": "code",
   "execution_count": null,
   "id": "5c4c11fd-7c76-4da0-a1a3-9bbe0f3f877c",
   "metadata": {},
   "outputs": [],
   "source": [
    "number=int(input(\"Enter the Number = \"))\n",
    "if number <0 :\n",
    "           print(\"The Number is Negative\")\n",
    "elif number >0:\n",
    "           print(\"The Number is Positive\")\n",
    "elif number==0 :\n",
    "           print (\"The Number Is Zero\")\n",
    "else:\n",
    "           print(\"The Number Is Not Valid\")"
   ]
  },
  {
   "cell_type": "code",
   "execution_count": null,
   "id": "28ef8790-c51b-4e6e-b4ed-d3014734ee3b",
   "metadata": {},
   "outputs": [],
   "source": []
  },
  {
   "cell_type": "markdown",
   "id": "35524d95-0c71-4fb2-800a-188a84cffdfd",
   "metadata": {},
   "source": [
    "Create a Python program that checks if a given number is even or odd using an if-else statement."
   ]
  },
  {
   "cell_type": "raw",
   "id": "0818dbd7-565f-4c4b-81d8-4acc049dc8c6",
   "metadata": {},
   "source": [
    "Ans."
   ]
  },
  {
   "cell_type": "code",
   "execution_count": null,
   "id": "e468a300-d3fa-4843-a78c-1a73deab42db",
   "metadata": {},
   "outputs": [],
   "source": [
    "print(\"CHECK THE INPUT NUMBER IS EVEN OR ODD :\")\n",
    "\n",
    "number=int(input(\"Enter the Number = \"))\n",
    "if number %2==0:\n",
    "    print(\"THE GIVEN NUMBE IS EVEN NUMBER\")\n",
    "elif number %2!=0:\n",
    "    print(\"THE GIVEN NUMBER IS  ODD NUMBER\")"
   ]
  },
  {
   "cell_type": "code",
   "execution_count": null,
   "id": "24335984-016a-4a05-9055-f4573ae44743",
   "metadata": {},
   "outputs": [],
   "source": []
  },
  {
   "cell_type": "markdown",
   "id": "3f2d6044-2cf7-4634-adff-c5b6c321b36c",
   "metadata": {},
   "source": [
    "How can you use nested if-else statements in Python, and provide an example?"
   ]
  },
  {
   "cell_type": "markdown",
   "id": "f86f8134-5a85-44c8-9aa7-6e8313dd77bc",
   "metadata": {},
   "source": [
    "Ans."
   ]
  },
  {
   "cell_type": "code",
   "execution_count": null,
   "id": "8fa95274-298b-4a47-a370-c5cf9ab55a77",
   "metadata": {},
   "outputs": [],
   "source": [
    "def Nested_if(number):\n",
    "    if number>0:\n",
    "        print(\"Number is Positive\")\n",
    "        if number%2==0:\n",
    "            print(\"the Number is Even\")\n",
    "        else:\n",
    "            print(\"the number is Odd\")\n",
    "            \n",
    "    elif number ==0:\n",
    "        print(\"the numbe is zero\")\n",
    "    else:\n",
    "        print(\"the number is negative\")\n",
    "        \n",
    "number=int(input(\"enter the number\"))\n",
    "result=Nested_if(number)\n",
    "print(result)"
   ]
  },
  {
   "cell_type": "code",
   "execution_count": null,
   "id": "b05c7803-d865-4d85-a66f-beb8c76a6a88",
   "metadata": {},
   "outputs": [],
   "source": []
  },
  {
   "cell_type": "markdown",
   "id": "a4f51e96-b69a-4139-be86-8b5f5a0fab35",
   "metadata": {},
   "source": [
    "Write a Python program to determine the largest of three numbers using if-else.\n"
   ]
  },
  {
   "cell_type": "markdown",
   "id": "fbd20190-7c6c-4d7b-854c-a38fc0a1c2c5",
   "metadata": {},
   "source": [
    "Ans."
   ]
  },
  {
   "cell_type": "code",
   "execution_count": null,
   "id": "f66bbbdc-5545-4ed7-889c-9b77f00db592",
   "metadata": {},
   "outputs": [],
   "source": [
    "def largest_number(num1, num2 , num3):\n",
    "    if num1>num2 and num1>num3:\n",
    "        print(\"num1 is the largest number\")\n",
    "    elif num2 > num1  and num2> num3 :\n",
    "        print(\"num 2 is the largest number\")\n",
    "    else:\n",
    "        print(\"Num3 is the largest Number\")\n",
    "    return largest_number\n",
    "        \n",
    "num1=int(input(\"Enter the first Number\"))\n",
    "num2=int(input(\"Enter the second Number\"))\n",
    "num3=int(input(\"Enter the third Number\"))\n",
    "output=largest_number(num1,num2,num3)\n",
    "print(output)\n",
    "         "
   ]
  },
  {
   "cell_type": "code",
   "execution_count": null,
   "id": "02ab4811-e375-4a72-b693-cf9003178773",
   "metadata": {},
   "outputs": [],
   "source": []
  },
  {
   "cell_type": "markdown",
   "id": "d3ce79a2-8a48-42f6-9c95-57f153b7e4bd",
   "metadata": {},
   "source": [
    "Write a Python program that calculates the absolute value of a number using if-else."
   ]
  },
  {
   "cell_type": "markdown",
   "id": "485c7fbc-a053-4ca7-a16e-9ca833b7892c",
   "metadata": {},
   "source": [
    "Ans."
   ]
  },
  {
   "cell_type": "code",
   "execution_count": null,
   "id": "a82174dc-ce4f-45e0-a26d-9f7efb8cef46",
   "metadata": {},
   "outputs": [],
   "source": [
    "def Absolute_value(number):\n",
    "    if number<0:\n",
    "        absolute=-number\n",
    "    else: number>0:\n",
    "        absolute=number\n",
    "    return absolute\n",
    "user_input=Flaot"
   ]
  },
  {
   "cell_type": "code",
   "execution_count": null,
   "id": "f3749a11-1c0f-46fb-8899-c81a31d45374",
   "metadata": {},
   "outputs": [],
   "source": []
  },
  {
   "cell_type": "markdown",
   "id": "b8e040bd-3dc3-4a97-adfe-9b788f6ed19a",
   "metadata": {},
   "source": [
    "Create a Python program that checks if a given character is a vowel or consonant using if-else."
   ]
  },
  {
   "cell_type": "markdown",
   "id": "a5905d34-c26c-46df-8252-113b6bd71140",
   "metadata": {},
   "source": [
    "Ans."
   ]
  },
  {
   "cell_type": "code",
   "execution_count": null,
   "id": "ae950743-0e4a-4257-9bea-d91159e13d28",
   "metadata": {},
   "outputs": [],
   "source": [
    "def check_character(input_string):\n",
    "    vowel='aeiouAEIOU'\n",
    "    lower_vowel=vowel.lower()\n",
    "    if input_string in lower_vowel:\n",
    "        print('the char is vowel')\n",
    "    else:\n",
    "        print(\"the given char is consonant\")"
   ]
  },
  {
   "cell_type": "code",
   "execution_count": null,
   "id": "94316155-402a-4fa5-a669-cecdd7eff59e",
   "metadata": {},
   "outputs": [],
   "source": [
    "input_string=input(\"enter the character\")\n",
    "result=check_character(input_string)\n",
    "print(result)"
   ]
  },
  {
   "cell_type": "code",
   "execution_count": null,
   "id": "0492e983-28d0-4d4b-85b7-95118633b5af",
   "metadata": {},
   "outputs": [],
   "source": []
  },
  {
   "cell_type": "markdown",
   "id": "a2f04d58-3ec6-40ce-8aae-25efcb5a8115",
   "metadata": {},
   "source": [
    "Write a Python program to determine if a user is eligible to vote based on their age using if-else."
   ]
  },
  {
   "cell_type": "markdown",
   "id": "ba0249fa-398d-4a2b-9c55-f5e79e454070",
   "metadata": {},
   "source": [
    "Ans."
   ]
  },
  {
   "cell_type": "code",
   "execution_count": null,
   "id": "9eaeb3e1-b3ec-48aa-8e03-1233c21004b6",
   "metadata": {},
   "outputs": [],
   "source": [
    "def check_voting_age(input_age):\n",
    "    print(\"WELCOME TO THE VOTING PORTAL\")\n",
    "    print(\"Enter your age below\")\n",
    "    minimum_age=18\n",
    "    if input_age < minimum_age:\n",
    "        print(\"Your Age is Less Than !8 .Sorry You aren't eligible for voting\")\n",
    "    else:\n",
    "        print(\"The User's Age is Valid. You can Vote\")\n",
    "    \n",
    "input_age=int(input(\"age -> \"))\n",
    "output=check_voting_age(input_age)\n",
    "print(output)"
   ]
  },
  {
   "cell_type": "code",
   "execution_count": null,
   "id": "5f62f2a7-9571-473e-8377-3defda9e83e6",
   "metadata": {},
   "outputs": [],
   "source": []
  },
  {
   "cell_type": "markdown",
   "id": "cd626330-221c-427a-8331-ccee4f3899c1",
   "metadata": {},
   "source": [
    "Create a Python program that calculates the discount amount based on the purchase amount using if-else."
   ]
  },
  {
   "cell_type": "markdown",
   "id": "9a7f6918-b19d-4436-b4a3-521f7fb46bf3",
   "metadata": {},
   "source": [
    "Ans."
   ]
  },
  {
   "cell_type": "code",
   "execution_count": null,
   "id": "d01a6a42-a2ce-4f46-964d-3fc1a7a90884",
   "metadata": {},
   "outputs": [],
   "source": [
    "def calculate_discount(purchase_amount):\n",
    "    if purchase_amount>=1000:\n",
    "        discount_rate=0.1\n",
    "    elif purchase_amount>=500:\n",
    "        discount_rate=0.5\n",
    "    else:\n",
    "        discount_rate=0.0\n",
    "    discount_amount=purchase_amount * discount_rate\n",
    "    return discount_amount\n",
    "purchase_amount=float(input(\"enter the purchasign amount=\"))\n",
    "discount=calculate_discount(purchase_amount)\n",
    "print(discount)\n",
    "        \n",
    "\n",
    "    "
   ]
  },
  {
   "cell_type": "code",
   "execution_count": null,
   "id": "f62cd00c-b36a-481e-b1e2-1acad9f9d07f",
   "metadata": {},
   "outputs": [],
   "source": []
  },
  {
   "cell_type": "markdown",
   "id": "2406db25-1b1e-4e0c-b548-df3154de32f5",
   "metadata": {},
   "source": [
    "Write a Python program to check if a number is within a specified range using if-else.\n"
   ]
  },
  {
   "cell_type": "markdown",
   "id": "28a8ef81-ce6a-4eec-a8c1-7f4ba27f5e34",
   "metadata": {},
   "source": [
    "Ans."
   ]
  },
  {
   "cell_type": "code",
   "execution_count": null,
   "id": "b52e758d-1363-4f4e-8880-7d977565593c",
   "metadata": {},
   "outputs": [],
   "source": [
    "\n",
    "def check_number_in_range(number, lower_limit, upper_limit):\n",
    "    if lower_limit <= number <= upper_limit:\n",
    "        return True\n",
    "    else:\n",
    "        return False\n",
    "\n",
    "\n",
    "user_number = float(input(\"Enter a number: \"))\n",
    "\n",
    "\n",
    "lower_limit = 10\n",
    "upper_limit = 50\n",
    "\n",
    "\n",
    "if check_number_in_range(user_number, lower_limit, upper_limit):\n",
    "    print(f\"{user_number} is within the specified range.\")\n",
    "else:\n",
    "    print(f\"{user_number} is outside the specified range.\")\n"
   ]
  },
  {
   "cell_type": "code",
   "execution_count": null,
   "id": "290cd1fa-4caf-423e-bcd2-538462a47dc2",
   "metadata": {},
   "outputs": [],
   "source": []
  },
  {
   "cell_type": "markdown",
   "id": "e168dce6-a7d5-4cb7-8cbf-fd3e2073867d",
   "metadata": {},
   "source": [
    "Create a Python program that determines the grade of a student based on their score using if-else."
   ]
  },
  {
   "cell_type": "markdown",
   "id": "064bfa87-f4c6-4c3f-ba2a-ae66b7ac82ae",
   "metadata": {},
   "source": [
    "Ans."
   ]
  },
  {
   "cell_type": "code",
   "execution_count": null,
   "id": "6bffef27-09e2-4417-8c81-1aedeb0181cb",
   "metadata": {},
   "outputs": [],
   "source": [
    "def students_grades(input_function):\n",
    "    if input_function >=91:\n",
    "        print(f\"The Student obtained Marks is :> {input_function} and Grade is 'O'\")\n",
    "    elif input_function >=81:\n",
    "        print(f\"The Student obtained Marks is :> {input_function} and Grade is 'A+'\")\n",
    "    elif input_function >=71:\n",
    "        print(f\"The Student obtained Marks is :> {input_function} and Grade is 'A'\")\n",
    "    elif input_function >=61:\n",
    "        print(f\"The Student obtained Marks is :> {input_function} and Grade is 'B+'\")\n",
    "    elif input_function >=51:\n",
    "        print(f\"The Student obtained Marks is :> {input_function} and Grade is 'B'\")\n",
    "    elif input_function >=35:\n",
    "        print(f\"The Student obtained Marks is :> {input_function} and Grade is 'C'\")\n",
    "    else:\n",
    "        print(\"The student is fail\")\n",
    "        \n",
    "input_function=int(input(\"Enter the student Marks : \"))\n",
    "result=students_grades(input_function)\n",
    "print(result)"
   ]
  },
  {
   "cell_type": "code",
   "execution_count": null,
   "id": "2a896a4f-4710-411c-8d09-7173b5365ef9",
   "metadata": {},
   "outputs": [],
   "source": []
  },
  {
   "cell_type": "markdown",
   "id": "48e9c687-038a-446b-ad4d-f9317fb52008",
   "metadata": {},
   "source": [
    "Write a Python program to check if a string is empty or not using if-else."
   ]
  },
  {
   "cell_type": "markdown",
   "id": "1464e50f-4695-457f-b1b9-b04849aa75a5",
   "metadata": {},
   "source": [
    "Ans."
   ]
  },
  {
   "cell_type": "code",
   "execution_count": null,
   "id": "c79e83c8-f8f6-4b91-9308-a61f58f89497",
   "metadata": {},
   "outputs": [],
   "source": [
    "def check_string(string):\n",
    "    for word in string:\n",
    "        if word in string:\n",
    "            print(\"the string is contain element\")\n",
    "        else:\n",
    "            \n",
    "            print(\"the string is empty\")\n",
    "        return string\n",
    "    \n",
    "string=['a','b']\n",
    "result=check_string(string)\n",
    "print(result)"
   ]
  },
  {
   "cell_type": "code",
   "execution_count": null,
   "id": "8bed8a4d-02ec-4349-bb8e-e2693542881b",
   "metadata": {},
   "outputs": [],
   "source": []
  },
  {
   "cell_type": "markdown",
   "id": "312dfc79-ada9-4942-bb20-356eb1bd0b36",
   "metadata": {},
   "source": [
    "Create a Python program that identifies the type of a triangle (e.g., equilateral, isosceles, or scalene) based on input values using if-else"
   ]
  },
  {
   "cell_type": "markdown",
   "id": "2b7760ba-4ce8-424f-819a-c576b035348b",
   "metadata": {},
   "source": [
    "Ans."
   ]
  },
  {
   "cell_type": "code",
   "execution_count": null,
   "id": "a7920312-4b9d-42fa-bfd7-076a4e89d2ba",
   "metadata": {},
   "outputs": [],
   "source": [
    "def identify_triangle(Side1, Side2, Side3):\n",
    "    # if the equilateral triangle then\n",
    "    if Side1 == Side2 == Side3:\n",
    "        print(\"the triangle is Equailateral triangle\")\n",
    "     # if the isosceles triangle then\n",
    "    elif Side1==Side2 or Side1==Side3 or Side2==Side3:\n",
    "        print(\"The Triangle is Isosceles  Triangle\")\n",
    "    else:\n",
    "        print(\"THe Triangle is Scalene Triangle\")\n",
    "Side1=float(input(\"Enter The Angle of the Side 1 :>\"))\n",
    "Side2=int(input(\"Enter The Angle of the Side 2 :>\"))\n",
    "Side3=int(input(\"Enter The Angle of the Side 3 :>\"))\n",
    "          \n",
    "check_triangle=identify_triangle(Side1, Side2 ,Side3)\n",
    "print(check_triangle)\n",
    "        "
   ]
  },
  {
   "cell_type": "code",
   "execution_count": null,
   "id": "93076628-64c7-46ad-a766-97811a2e9e65",
   "metadata": {},
   "outputs": [],
   "source": []
  },
  {
   "cell_type": "markdown",
   "id": "01391504-3133-4704-b2ac-2e94a5728168",
   "metadata": {},
   "source": [
    "Write a Python program to determine the day of the week based on a user-provided number using if-else."
   ]
  },
  {
   "cell_type": "markdown",
   "id": "27fbbf86-86ae-4ae6-8302-c8a85f1f7cd6",
   "metadata": {},
   "source": [
    "Ans."
   ]
  },
  {
   "cell_type": "code",
   "execution_count": null,
   "id": "4507e879-42cc-4443-b95a-dc0a8077b7b9",
   "metadata": {},
   "outputs": [],
   "source": [
    "def week_day(user_input):\n",
    "    monday=1\n",
    "    tuesday=2\n",
    "    wednesday=3\n",
    "    thursday=4\n",
    "    friday=5\n",
    "    saturday=6\n",
    "    sunday=7\n",
    "    if user_input==1:\n",
    "        return \"this is the monday\"\n",
    "    elif user_input==2:\n",
    "        return \"this is the tuesday\"\n",
    "    elif user_input==3:\n",
    "        return \"this is the wenesday\"\n",
    "\n",
    "    elif user_input==4:\n",
    "        return \"this is the thursday\"\n",
    "    elif user_input==5:\n",
    "        return \"this is the friday\"\n",
    "    elif user_input==6:\n",
    "        return \"this is the saturday\"\n",
    "    elif user_input==7:\n",
    "        return \"this is the sunday\"\n",
    "    else:\n",
    "        return \"Please Provide a Valid Input\"\n",
    "user_input=int(input(\"enter the week of the day: \"))\n",
    "check_day=week_day(user_input)\n",
    "print(check_day)"
   ]
  },
  {
   "cell_type": "code",
   "execution_count": null,
   "id": "36d1263d-9a1c-4351-b4cf-9f53f6328e83",
   "metadata": {},
   "outputs": [],
   "source": []
  },
  {
   "cell_type": "markdown",
   "id": "9c9b59cb-9aa1-4fdd-a7c7-96e7a31c0c60",
   "metadata": {},
   "source": [
    "Create a Python program that checks if a given year is a leap year using both if-else and a function.\n"
   ]
  },
  {
   "cell_type": "markdown",
   "id": "b249493f-2729-49b9-b79d-bbe762aeb9b5",
   "metadata": {},
   "source": [
    "Ans."
   ]
  },
  {
   "cell_type": "code",
   "execution_count": null,
   "id": "39cb058d-7e9f-48ae-bcd5-384063243a1c",
   "metadata": {},
   "outputs": [],
   "source": [
    "def is_leap_year(year):\n",
    "    \n",
    "    if (year % 4 == 0 and year % 100 != 0) or (year % 400 == 0):\n",
    "        return True\n",
    "    else:\n",
    "        return False\n",
    "\n",
    "# Get input from the user\n",
    "user_year = int(input(\"Enter a year: \"))\n",
    "\n",
    "# Check if the year is a leap year using the function and if-else statements\n",
    "if is_leap_year(user_year):\n",
    "    print(f\"{user_year} is a leap year.\")\n",
    "else:\n",
    "    print(f\"{user_year} is not a leap year.\")\n"
   ]
  },
  {
   "cell_type": "code",
   "execution_count": null,
   "id": "15f42de2-dd84-4234-87f1-d05e18fdec3f",
   "metadata": {},
   "outputs": [],
   "source": []
  },
  {
   "cell_type": "markdown",
   "id": "2943f6b6-0bda-44c6-8669-007429fc2002",
   "metadata": {},
   "source": [
    "How do you use the \"assert\" statement in Python to add debugging checks within if-else blocks?"
   ]
  },
  {
   "cell_type": "markdown",
   "id": "d75099db-1ccf-47c1-95c7-34130d8e5987",
   "metadata": {},
   "source": [
    "Ans."
   ]
  },
  {
   "cell_type": "code",
   "execution_count": null,
   "id": "61f948dd-5a13-49e6-ad1c-a693c49518e4",
   "metadata": {},
   "outputs": [],
   "source": [
    "def check_discount(price):\n",
    "    if price >100:\n",
    "        discount=0.1 * price\n",
    "    else: \n",
    "        discount=0\n",
    "        \n",
    "    assert discount >= 0\n",
    "    return discount\n",
    "\n",
    "price=float(input(\"enter the price amount : \"))\n",
    "result=check_discount(price)\n",
    "print(result)"
   ]
  },
  {
   "cell_type": "code",
   "execution_count": null,
   "id": "6a41589c-4c69-42e9-97e8-43ee56a6f54f",
   "metadata": {},
   "outputs": [],
   "source": []
  },
  {
   "cell_type": "markdown",
   "id": "728ca0fa-a87d-4ea4-b34c-8aec1aacb032",
   "metadata": {},
   "source": [
    "Create a Python program that determines the eligibility of a person for a senior citizen discount based on age using if-else."
   ]
  },
  {
   "cell_type": "markdown",
   "id": "927f8f0c-853f-407c-9fc0-b6460e494611",
   "metadata": {},
   "source": [
    "Ans."
   ]
  },
  {
   "cell_type": "code",
   "execution_count": null,
   "id": "4468eef8-d498-4b29-92e8-dd0296ab0f44",
   "metadata": {},
   "outputs": [],
   "source": [
    "def check_eligibility(age,price):\n",
    "    if (age>18 and age<30):\n",
    "        print(\"You are eligible for the 15% discount\")\n",
    "        discount=0.15*price\n",
    "    elif (age>30 and age<50):\n",
    "        print(\"You are eligible for the 15% discount\")\n",
    "        discount=0.20*price\n",
    "    elif (age>50 and age<70):\n",
    "        print(\"You are eligible for the 15% discount\")\n",
    "        discount=0.30*price\n",
    "    elif age>=70:\n",
    "        print(\"You are eligible for the 35% discount\")\n",
    "        discount=0.35*price\n",
    "    else:\n",
    "        print( \"you are not eligible for discounta\")\n",
    "    \n",
    "\n",
    "price=float(input(\"enter the price amount\"))\n",
    "age=float(input(\"enter the age\"))\n",
    "\n",
    "output=check_eligibility(age,price)\n",
    "print(output)"
   ]
  },
  {
   "cell_type": "code",
   "execution_count": null,
   "id": "b6b7d087-b070-48e2-9437-8b4e43c5f127",
   "metadata": {},
   "outputs": [],
   "source": []
  },
  {
   "cell_type": "markdown",
   "id": "6726db02-a154-4a6e-bb44-f02d49df9235",
   "metadata": {},
   "source": [
    "Write a Python program to categorize a given character as uppercase, lowercase, or neither using if-else."
   ]
  },
  {
   "cell_type": "markdown",
   "id": "6a4bb40c-23e4-43cc-b74f-a3876534afb5",
   "metadata": {},
   "source": [
    "Ans."
   ]
  },
  {
   "cell_type": "code",
   "execution_count": null,
   "id": "ff4ce263-e586-4c19-aafd-44ec0100f0de",
   "metadata": {},
   "outputs": [],
   "source": [
    "def check_character(character):\n",
    "    if character.isupper():\n",
    "        print(f\"the {character } is in upper case\")\n",
    "    elif character.islower():\n",
    "        print(f\"the {character} is in lower case\")\n",
    "    else:\n",
    "        print(f\"the {character} is in not uppercase or lower case\")\n",
    "character=input(\"enter the character\")\n",
    "print(check_character(character))"
   ]
  },
  {
   "cell_type": "code",
   "execution_count": null,
   "id": "2eaf4c60-895f-4cb4-9f8e-92fa6a6f032f",
   "metadata": {},
   "outputs": [],
   "source": []
  },
  {
   "cell_type": "markdown",
   "id": "25f66036-f465-407e-a66a-04d446c0160a",
   "metadata": {},
   "source": [
    "Write a Python program to determine the roots of a quadratic equation using if-else.\n"
   ]
  },
  {
   "cell_type": "markdown",
   "id": "6f2422f6-1615-4f24-b0a7-8a90e9395865",
   "metadata": {},
   "source": [
    "Ans."
   ]
  },
  {
   "cell_type": "code",
   "execution_count": null,
   "id": "b6191b3b-aace-4bb1-bc00-0e6e485d9f00",
   "metadata": {},
   "outputs": [],
   "source": [
    "import math\n",
    "\n",
    "# Function to determine the roots of a quadratic equation\n",
    "def find_roots(a, b, c):\n",
    "    # Calculate the discriminant\n",
    "    discriminant = b**2 - 4*a*c\n",
    "\n",
    "    # Check the value of the discriminant\n",
    "    if discriminant > 0:\n",
    "        # Two distinct real roots\n",
    "        root1 = (-b + math.sqrt(discriminant)) / (2*a)\n",
    "        root2 = (-b - math.sqrt(discriminant)) / (2*a)\n",
    "        return f\"The roots are real and distinct: {root1} and {root2}\"\n",
    "    elif discriminant == 0:\n",
    "        # One real root (double root)\n",
    "        root = -b / (2*a)\n",
    "        return f\"The root is real and repeated: {root}\"\n",
    "    else:\n",
    "        # Complex roots\n",
    "        real_part = -b / (2*a)\n",
    "        imaginary_part = math.sqrt(abs(discriminant)) / (2*a)\n",
    "        return f\"The roots are complex: {real_part} + {imaginary_part}i and {real_part} - {imaginary_part}i\"\n",
    "\n",
    "# Get coefficients from the user\n",
    "a = float(input(\"Enter the coefficient a: \"))\n",
    "b = float(input(\"Enter the coefficient b: \"))\n",
    "c = float(input(\"Enter the coefficient c: \"))\n",
    "\n",
    "# Check and display the result\n",
    "result = find_roots(a, b, c)\n",
    "print(result)\n"
   ]
  },
  {
   "cell_type": "code",
   "execution_count": null,
   "id": "81bc1f5b-14f1-410a-8edc-40ed35092c5f",
   "metadata": {},
   "outputs": [],
   "source": []
  },
  {
   "cell_type": "markdown",
   "id": "4b72ce8f-2133-466c-847e-75b503b74567",
   "metadata": {},
   "source": [
    "Create a Python program that checks if a given year is a century year or not using if-else"
   ]
  },
  {
   "cell_type": "markdown",
   "id": "d55d1a42-4dc7-44ac-bb64-c6a4c5791365",
   "metadata": {},
   "source": [
    "Ans."
   ]
  },
  {
   "cell_type": "code",
   "execution_count": null,
   "id": "99f00da6-601d-44ef-b81a-ed4d29abb378",
   "metadata": {},
   "outputs": [],
   "source": [
    "# Function to check if a year is a century year\n",
    "def is_century_year(year):\n",
    "    if year % 100 == 0:\n",
    "        return True\n",
    "    else:\n",
    "        return False\n",
    "\n",
    "# Get input from the user\n",
    "user_year = int(input(\"Enter a year: \"))\n",
    "\n",
    "# Check and display the result\n",
    "if is_century_year(user_year):\n",
    "    print(f\"{user_year} is a century year.\")\n",
    "else:\n",
    "    print(f\"{user_year} is not a century year.\")\n"
   ]
  },
  {
   "cell_type": "code",
   "execution_count": null,
   "id": "d279f2bf-1807-40da-808c-5f331e9029a9",
   "metadata": {},
   "outputs": [],
   "source": []
  },
  {
   "cell_type": "markdown",
   "id": "3009f8aa-dcf2-4a07-9f8e-2e4c65d82e2a",
   "metadata": {},
   "source": [
    "Write a Python program to determine if a given number is a perfect square using if-else.\n"
   ]
  },
  {
   "cell_type": "markdown",
   "id": "0fa5e775-2b21-466d-87d9-8274611bd4f4",
   "metadata": {},
   "source": [
    "Ans."
   ]
  },
  {
   "cell_type": "code",
   "execution_count": null,
   "id": "382ed5ff-7cbc-45b0-bb42-5ce8f95a631c",
   "metadata": {},
   "outputs": [],
   "source": [
    "# Function to check if a number is a perfect square\n",
    "def is_perfect_square(number):\n",
    "    # Check if the square root is an integer\n",
    "    square_root = int(number**0.5)\n",
    "    \n",
    "    if square_root**2 == number:\n",
    "        return True\n",
    "    else:\n",
    "        return False\n",
    "\n",
    "# Get input from the user\n",
    "user_number = int(input(\"Enter a number: \"))\n",
    "\n",
    "# Check and display the result\n",
    "if is_perfect_square(user_number):\n",
    "    print(f\"{user_number} is a perfect square.\")\n",
    "else:\n",
    "    print(f\"{user_number} is not a perfect square.\")\n"
   ]
  },
  {
   "cell_type": "code",
   "execution_count": null,
   "id": "2634e9e5-9508-4303-ac62-0d93b27c746c",
   "metadata": {},
   "outputs": [],
   "source": []
  },
  {
   "cell_type": "markdown",
   "id": "932756f5-5fdb-4f8b-b0d0-b1bf7934a5f9",
   "metadata": {},
   "source": [
    "Explain the purpose of the \"continue\" and \"break\" statements within if-else loops."
   ]
  },
  {
   "cell_type": "markdown",
   "id": "3a724a82-9067-4a2b-94b8-be7c1b5adbf9",
   "metadata": {},
   "source": [
    "Ans."
   ]
  },
  {
   "cell_type": "raw",
   "id": "3b91ffdd-b9e7-4c05-b732-df7ca46fd474",
   "metadata": {},
   "source": [
    "Continue==continue statement pass that iterative function without giving a data . its simply paass\n",
    "the funtion for now we can also added the data whenever we get the data\n",
    "its used when we want to skip the funtion\n",
    "break== break statement break the loop  iteration and exits from the loop.\n",
    "its used when the particular condition satisfied and now dont want to iterate further now\n",
    "break statement is used for exit from the loop and return the result\n"
   ]
  },
  {
   "cell_type": "code",
   "execution_count": null,
   "id": "19a8151a-05ec-491b-a24a-fa7b0d339794",
   "metadata": {},
   "outputs": [],
   "source": []
  },
  {
   "cell_type": "markdown",
   "id": "ce13644b-2a9a-46c4-b40f-25973a2499cb",
   "metadata": {},
   "source": [
    "Create a Python program that calculates the BMI (Body Mass Index) of a person based on their weight and height using if-else.\n"
   ]
  },
  {
   "cell_type": "markdown",
   "id": "5fabc43f-45ca-456a-bc30-085815312bb9",
   "metadata": {},
   "source": [
    "Ans."
   ]
  },
  {
   "cell_type": "code",
   "execution_count": null,
   "id": "23a1c968-0379-47c8-83fa-7c3d1991f89b",
   "metadata": {},
   "outputs": [],
   "source": [
    "# Function to calculate BMI\n",
    "def calculate_bmi(weight, height):\n",
    "    # Check if weight and height are valid\n",
    "    if weight <= 0 or height <= 0:\n",
    "        return \"Invalid weight or height. Please enter positive values.\"\n",
    "\n",
    "    # Calculate BMI\n",
    "    bmi = weight / (height ** 2)\n",
    "\n",
    "    # Categorize BMI\n",
    "    if bmi < 18.5:\n",
    "        category = \"Underweight\"\n",
    "    elif 18.5 <= bmi < 25:\n",
    "        category = \"Normal weight\"\n",
    "    elif 25 <= bmi < 30:\n",
    "        category = \"Overweight\"\n",
    "    else:\n",
    "        category = \"Obese\"\n",
    "\n",
    "    return f\"Your BMI is {bmi:.2f}. You are categorized as {category}.\"\n",
    "\n",
    "# Get input from the user\n",
    "weight = float(input(\"Enter your weight in kilograms: \"))\n",
    "height = float(input(\"Enter your height in meters: \"))\n",
    "\n",
    "# Calculate and display the result\n",
    "result = calculate_bmi(weight, height)\n",
    "print(result)\n"
   ]
  },
  {
   "cell_type": "code",
   "execution_count": null,
   "id": "967df849-03dc-49b0-83c7-f3164626fc4e",
   "metadata": {},
   "outputs": [],
   "source": [
    "1.8** 2"
   ]
  },
  {
   "cell_type": "code",
   "execution_count": null,
   "id": "6a267a72-32b2-41b3-bab4-2486496a8b0d",
   "metadata": {},
   "outputs": [],
   "source": [
    "60/3.24"
   ]
  },
  {
   "cell_type": "markdown",
   "id": "f9dee648-aae3-4f70-afa9-b03c7d06c904",
   "metadata": {},
   "source": [
    "How can you use the \"filter()\" function with if-else statements to filter elements from a list?"
   ]
  },
  {
   "cell_type": "markdown",
   "id": "bd2bce82-74bb-4042-9d96-448534a55197",
   "metadata": {},
   "source": [
    "Ans."
   ]
  },
  {
   "cell_type": "code",
   "execution_count": null,
   "id": "e06d55d9-30e0-4958-8e96-057a628a0857",
   "metadata": {},
   "outputs": [],
   "source": [
    "# Example list of numbers\n",
    "numbers = [1, 5, 8, 10, 15, 20, 25]\n",
    "\n",
    "# Filtering function using if-else logic\n",
    "def is_even(num):\n",
    "    return True if num % 2 == 0 else False\n",
    "\n",
    "# Using filter() with the filtering function\n",
    "filtered_numbers = filter(is_even, numbers)\n",
    "\n",
    "# Convert the filtered result to a list (since filter() returns an iterable)\n",
    "result_list = list(filtered_numbers)\n",
    "\n",
    "# Display the result\n",
    "print(result_list)\n"
   ]
  },
  {
   "cell_type": "code",
   "execution_count": null,
   "id": "aafe52ee-42d5-4122-bbb3-2a9197853d8f",
   "metadata": {},
   "outputs": [],
   "source": []
  },
  {
   "cell_type": "markdown",
   "id": "fdc078f0-2ca7-494c-be0b-248058025e0a",
   "metadata": {},
   "source": [
    "Write a Python program to determine if a given number is prime or not using if-else.\n"
   ]
  },
  {
   "cell_type": "markdown",
   "id": "7b175638-2655-4274-a07d-a8b1d1830eac",
   "metadata": {},
   "source": [
    "Ans."
   ]
  },
  {
   "cell_type": "code",
   "execution_count": null,
   "id": "c13d438e-5fb8-4c82-bf92-b8b6f00c7319",
   "metadata": {},
   "outputs": [],
   "source": []
  },
  {
   "cell_type": "code",
   "execution_count": null,
   "id": "67e0a1e4-32d5-4670-9cb3-b2bdb8ccfa55",
   "metadata": {},
   "outputs": [],
   "source": [
    "# Function to check if a number is prime\n",
    "def is_prime(number):\n",
    "    # Check if the number is less than 2 (not prime)\n",
    "    if number < 2:\n",
    "        return False\n",
    "    # Check for factors from 2 to the square root of the number\n",
    "    for i in range(2, int(number**0.5) + 1):\n",
    "        if number % i == 0:\n",
    "            return False  # Found a factor, not prime\n",
    "    return True  # No factors found, prime\n",
    "\n",
    "# Get input from the user\n",
    "user_number = int(input(\"Enter a number: \"))\n",
    "\n",
    "# Check and display the result\n",
    "if is_prime(user_number):\n",
    "    print(f\"{user_number} is a prime number.\")\n",
    "else:\n",
    "    print(f\"{user_number} is not a prime number.\")\n"
   ]
  },
  {
   "cell_type": "code",
   "execution_count": null,
   "id": "e6d70453-0ab6-4479-8bb4-1587ff4cc387",
   "metadata": {},
   "outputs": [],
   "source": []
  },
  {
   "cell_type": "raw",
   "id": "f6be2082-914b-43a2-9007-acfc2b5392cc",
   "metadata": {},
   "source": [
    "MAP Function"
   ]
  },
  {
   "cell_type": "markdown",
   "id": "76ce0ef9-cc5b-4a4f-8ed1-a1a128dd42ad",
   "metadata": {},
   "source": [
    "Explain the purpose of the `map()` function in Python and provide an example of how it can be used to apply a function to each element of an iterable.\n"
   ]
  },
  {
   "cell_type": "markdown",
   "id": "2f76cd36-db77-419b-9e91-cc0c8885e0f1",
   "metadata": {},
   "source": [
    "Ans."
   ]
  },
  {
   "cell_type": "raw",
   "id": "7e751a2a-0255-460d-9957-0058280261a5",
   "metadata": {},
   "source": [
    "The map() function in Python is used to apply a specified function to each item in an iterable (like a list, tuple, or set) and\n",
    "returns an iterator that yields the results. \n",
    "It's a concise and efficient way of performing a transformation on every element of a collection without explicitly writing a loop."
   ]
  },
  {
   "cell_type": "code",
   "execution_count": null,
   "id": "d6968311-3b15-49c9-8060-92bab63293f9",
   "metadata": {},
   "outputs": [],
   "source": [
    "def double(x):\n",
    "    return x*2\n",
    "number=[1,2,3,4,5,6,7,8]\n",
    "double_number=map(double,number)\n",
    "print(list(double_number))"
   ]
  },
  {
   "cell_type": "markdown",
   "id": "101145da-7a77-42c9-bff8-5b23aaeb5086",
   "metadata": {},
   "source": [
    "Write a Python program that uses the `map()` function to square each element of a list of numbers."
   ]
  },
  {
   "cell_type": "markdown",
   "id": "ac07739d-f2de-44d4-8586-551bca2be26d",
   "metadata": {},
   "source": [
    "Ans."
   ]
  },
  {
   "cell_type": "code",
   "execution_count": null,
   "id": "8d1efefb-e538-496d-afd3-25d9da9e80c1",
   "metadata": {},
   "outputs": [],
   "source": [
    "def square(x):\n",
    "    return x**2\n",
    "number=[2,3,4,5,6]\n",
    "square_list=map(square,number)\n",
    "print(list(square_list))"
   ]
  },
  {
   "cell_type": "code",
   "execution_count": null,
   "id": "b25f16e5-8009-4c1f-a5ec-103430334c0e",
   "metadata": {},
   "outputs": [],
   "source": []
  },
  {
   "cell_type": "markdown",
   "id": "17af9a04-a7d2-4f47-a194-9802c5f813c3",
   "metadata": {},
   "source": [
    "How does the `map()` function differ from a list comprehension in Python, and when would you choose one over the other?"
   ]
  },
  {
   "cell_type": "markdown",
   "id": "ba0bb304-a78f-461f-9f68-db74c7392ef0",
   "metadata": {},
   "source": [
    "Ans."
   ]
  },
  {
   "cell_type": "raw",
   "id": "caed8f17-f2a7-4c4d-9f31-dcccb75f0be8",
   "metadata": {},
   "source": [
    "Use map() when applying a function to every element of an iterable and the transformation is straightforward,\n",
    "especially if the function is already defined and reusable.\n",
    "\n",
    "Use list comprehensions when the transformation involves more complex logic or multiple iterations over the iterable,\n",
    "or when the result needs to be stored in a list directly."
   ]
  },
  {
   "cell_type": "markdown",
   "id": "28f49331-dd13-4ca2-acdb-2013db65ee09",
   "metadata": {},
   "source": [
    "| Aspect             | map()                          | List Comprehension                   |\n",
    "|--------------------|--------------------------------|--------------------------------------|\n",
    "| Syntax             | map(function, iterable)        | [expression for item in iterable]    |\n",
    "| Return Type        | Always returns an iterator     | Returns a list directly              |\n",
    "| Readability        | May be less readable,         | Often considered more readable and   |\n",
    "|                    | especially with lambda        | expressive, especially for simple    |\n",
    "|                    | functions                       | transformations                     |\n",
    "| Performance        | Slightly optimized due to      | Slightly slower due to the creation  |\n",
    "|                    | being a built-in function      | of a list and expression evaluation |\n",
    "|                    |                                | for each item                       |\n",
    "| Use Cases          | Ideal for applying a function  | Suitable for more complex logic or  |\n",
    "|                    | to every element of an         | multiple iterations over the        |\n",
    "|                    | iterable, especially when the  | iterable, or when the result needs  |\n",
    "|                    | function is already defined    | to be stored in a list directly    |\n"
   ]
  },
  {
   "cell_type": "markdown",
   "id": "56b31fa1-92f0-4504-96d8-9718c5281e90",
   "metadata": {},
   "source": [
    "Create a Python program that uses the `map()` function to convert a list of names to uppercase.\n"
   ]
  },
  {
   "cell_type": "markdown",
   "id": "b2264ba5-95af-49e4-8781-a55c4ab95c89",
   "metadata": {},
   "source": [
    "Ans."
   ]
  },
  {
   "cell_type": "code",
   "execution_count": null,
   "id": "1e3674c4-7360-45e5-9356-7f7ee4bd9bb6",
   "metadata": {},
   "outputs": [],
   "source": [
    "def uppercase_list(n):\n",
    "    return n.upper()\n",
    "names=['saurabh','rahul','lokesh','harish','chetan','jignesh']\n",
    "upper=map(uppercase_list,names)\n",
    "upper_name_list=list(upper)\n",
    "print(upper_name_list)"
   ]
  },
  {
   "cell_type": "code",
   "execution_count": null,
   "id": "bdb66fdc-596d-45de-abc1-f8f3b45bd3a4",
   "metadata": {},
   "outputs": [],
   "source": []
  },
  {
   "cell_type": "markdown",
   "id": "32a42113-6a14-44f5-9499-f8f6a97c4c16",
   "metadata": {},
   "source": [
    "Write a Python program that uses the `map()` function to calculate the length of each word in a list of strings.\n"
   ]
  },
  {
   "cell_type": "markdown",
   "id": "aa0f8b2c-786f-409e-bffd-1f8af3db0182",
   "metadata": {},
   "source": [
    "Ans."
   ]
  },
  {
   "cell_type": "code",
   "execution_count": null,
   "id": "65b3f941-35e8-4ed0-882f-01b94fe02aad",
   "metadata": {},
   "outputs": [],
   "source": [
    "def calculate_length(X):\n",
    "    return len(X)\n",
    "X=['saurabh','rahul','lokesh','harish','chetan','jignesh']\n",
    "calcluate=map(calculate_length,X)\n",
    "upper_name_list=list(calcluate)\n",
    "print(upper_name_list)\n"
   ]
  },
  {
   "cell_type": "markdown",
   "id": "44562b73-7e38-4d26-8885-a1e1bff759c8",
   "metadata": {},
   "source": [
    "How can you use the `map()` function to apply a custom function to elements of multiple lists simultaneously in Python?"
   ]
  },
  {
   "cell_type": "markdown",
   "id": "83512678-3997-45d7-9fe5-817773a83e5d",
   "metadata": {},
   "source": [
    "ANS."
   ]
  },
  {
   "cell_type": "code",
   "execution_count": null,
   "id": "2b7c6822-6ad1-41eb-a822-b02a99cd63d5",
   "metadata": {},
   "outputs": [],
   "source": [
    "# Custom function that takes multiple arguments and returns their sum\n",
    "def add_elements(*args):\n",
    "    return sum(args)\n",
    "\n",
    "# Define lists nested within a single list\n",
    "nested_lists = [[1, 2, 4], [4, 5, 6], [7, 8, 4]]\n",
    "\n",
    "# Apply the custom function to corresponding elements across nested lists using map() and zip()\n",
    "result = map(add_elements, *nested_lists)\n",
    "\n",
    "# Convert the result to a list\n",
    "result_list = list(result)\n",
    "\n",
    "# Print the result\n",
    "print(result_list)  \n"
   ]
  },
  {
   "cell_type": "markdown",
   "id": "f2dc2131-0772-427e-b94c-6ff21a3eac87",
   "metadata": {},
   "source": [
    "Create a Python program that uses `map()` to convert a list of temperatures from Celsius to Fahrenheit.\n"
   ]
  },
  {
   "cell_type": "markdown",
   "id": "1f69341e-04b5-4a9a-b706-d65b2cfc0e38",
   "metadata": {},
   "source": [
    "Ans."
   ]
  },
  {
   "cell_type": "code",
   "execution_count": null,
   "id": "05a17ee7-5367-4b89-a1c4-e666f7736f29",
   "metadata": {},
   "outputs": [],
   "source": [
    "def celsius_to_fahrenheit(celsius):\n",
    "    return (celsius * 9/5) + 32\n",
    "\n",
    "celsius_temperatures = [0, 10, 20, 30, 40]\n",
    "\n",
    "fahrenheit_temperatures = map(celsius_to_fahrenheit, celsius_temperatures)\n",
    "\n",
    "# Convert the result to a list\n",
    "fahrenheit_temperatures_list = list(fahrenheit_temperatures)\n",
    "\n",
    "# Print the result\n",
    "print(fahrenheit_temperatures_list)\n"
   ]
  },
  {
   "cell_type": "markdown",
   "id": "cabb62b2-a12e-4b8f-a5d3-953256b2f6dc",
   "metadata": {},
   "source": [
    "Write a Python program that uses the `map()` function to round each element of a list of floating-point numbers to the nearest integer\n"
   ]
  },
  {
   "cell_type": "markdown",
   "id": "26b88d73-f82f-4468-87c4-f2ae4d12e1bf",
   "metadata": {},
   "source": [
    "Ans."
   ]
  },
  {
   "cell_type": "code",
   "execution_count": null,
   "id": "2de80537-e67f-4703-a68b-943c33fe1364",
   "metadata": {},
   "outputs": [],
   "source": [
    "def convert_int(x):\n",
    "    return int(x)\n",
    "x=[3.4,5.24,0.23,4.58,3.23]\n",
    "map_int=map(round, x)\n",
    "converted_map=list(map_int)\n",
    "print(converted_map)"
   ]
  },
  {
   "cell_type": "code",
   "execution_count": null,
   "id": "59fe6492-30a2-46b8-a940-db0f0dbe00a2",
   "metadata": {},
   "outputs": [],
   "source": [
    "float_numbers = [3.4,5.24,0.23,4.54,3.23]\n",
    "\n",
    "rounded_integers = map(round, float_numbers)\n",
    "\n",
    "# Convert the result to a list\n",
    "rounded_integers_list = list(rounded_integers)\n",
    "\n",
    "# Print the result\n",
    "print(rounded_integers_list)\n"
   ]
  },
  {
   "cell_type": "code",
   "execution_count": null,
   "id": "f5451451-9da8-4211-9601-90c6a55f982c",
   "metadata": {},
   "outputs": [],
   "source": []
  },
  {
   "cell_type": "raw",
   "id": "15fa3f75-a370-4502-ae12-26187e3742a1",
   "metadata": {},
   "source": [
    "reduce\n"
   ]
  },
  {
   "cell_type": "markdown",
   "id": "1f985dae-9ed7-45b5-9c57-327b143678ea",
   "metadata": {},
   "source": [
    "What is the `reduce()` function in Python, and what module should you import to use it? Provide an example of its basic usage.\n"
   ]
  },
  {
   "cell_type": "markdown",
   "id": "6a884b65-acb1-4fa3-900b-3d4b04feb41a",
   "metadata": {},
   "source": [
    "Ans."
   ]
  },
  {
   "cell_type": "code",
   "execution_count": null,
   "id": "92d5ba3d-616a-401d-945d-accf3d0c9735",
   "metadata": {},
   "outputs": [],
   "source": [
    "# python code to demonstrate working of reduce() \n",
    "\n",
    "# importing functools for reduce() \n",
    "import functools \n",
    "\n",
    "# initializing list \n",
    "lis = [1, 3, 5, 6, 2] \n",
    "\n",
    "# using reduce to compute sum of list \n",
    "print(\"The sum of the list elements is : \", end=\"\") \n",
    "print(functools.reduce(lambda a, b: a+b, lis)) \n",
    "\n",
    "# using reduce to compute maximum element from list \n",
    "print(\"The maximum element of the list is : \", end=\"\") \n",
    "print(functools.reduce(lambda a, b: a if a > b else b, lis)) \n"
   ]
  },
  {
   "cell_type": "code",
   "execution_count": null,
   "id": "76d9855b-6a9f-42f8-b249-b1cfc3cea6e5",
   "metadata": {},
   "outputs": [],
   "source": [
    "Write a Python program that uses the `reduce()` function to find the product of all elements in a list."
   ]
  },
  {
   "cell_type": "markdown",
   "id": "e60b93cc-728f-4ada-bb13-6ab402f0e96b",
   "metadata": {},
   "source": [
    "Ans."
   ]
  },
  {
   "cell_type": "code",
   "execution_count": null,
   "id": "b76f692d-2f04-4139-a636-5574b18c41b9",
   "metadata": {},
   "outputs": [],
   "source": [
    "# python code to demonstrate working of reduce() \n",
    "\n",
    "# importing functools for reduce() \n",
    "import functools \n",
    "\n",
    "# initializing list \n",
    "lis = [1, 3, 5, 6, 2] \n",
    "\n",
    "# using reduce to compute sum of list \n",
    "print(\"The sum of the list elements is : \", end=\"\") \n",
    "print(functools.reduce(lambda a, b: a*b, lis)) \n",
    "\n",
    "# using reduce to compute maximum element from list \n",
    "print(\"The maximum element of the list is : \", end=\"\") \n",
    "print(functools.reduce(lambda a, b: a if a > b else b, lis)) \n"
   ]
  },
  {
   "cell_type": "code",
   "execution_count": null,
   "id": "f92c215c-a7e3-4439-bc19-20392e589cd0",
   "metadata": {},
   "outputs": [],
   "source": [
    "Create a Python program that uses `reduce()` to find the maximum element in a list of numbers."
   ]
  },
  {
   "cell_type": "code",
   "execution_count": null,
   "id": "29aab519-a972-4163-ada5-d26350529d97",
   "metadata": {},
   "outputs": [],
   "source": [
    "Ans."
   ]
  },
  {
   "cell_type": "code",
   "execution_count": null,
   "id": "9326d258-0f7b-4d63-b4e8-5bd7f84f6128",
   "metadata": {},
   "outputs": [],
   "source": [
    "import functools\n",
    "lis = [1, 3, 5, 6, 2] \n",
    "print(\"the max number inthe given list is \", end=\" \")\n",
    "print(functools.reduce(lambda a , b: a if a > b else b ,lis))"
   ]
  },
  {
   "cell_type": "code",
   "execution_count": null,
   "id": "e7ab52e3-f4b6-45c7-89f1-0598d6fa9e77",
   "metadata": {},
   "outputs": [],
   "source": [
    "How can you use the `reduce()` function to concatenate a list of strings into a single string?"
   ]
  },
  {
   "cell_type": "markdown",
   "id": "21a29597-3ab0-4b23-9621-abcbd849a46e",
   "metadata": {},
   "source": [
    "Ans."
   ]
  },
  {
   "cell_type": "code",
   "execution_count": null,
   "id": "38d12366-25ad-46dc-a61e-02257a055834",
   "metadata": {},
   "outputs": [],
   "source": [
    "import functools\n",
    "def conceanete_string(x,y):\n",
    "    return x+y\n",
    "string=['jignesh',' ','harish','!']\n",
    "concaneate_strings=reduce(conceanete_string,string)\n",
    "print(concaneate_strings)"
   ]
  },
  {
   "cell_type": "code",
   "execution_count": null,
   "id": "6a82cb94-3439-46d3-9a33-e154c905f171",
   "metadata": {},
   "outputs": [],
   "source": []
  },
  {
   "cell_type": "code",
   "execution_count": null,
   "id": "d5d25f46-e9d1-444d-9208-1b1ba470ab0b",
   "metadata": {},
   "outputs": [],
   "source": [
    "Write a Python program that calculates the factorial of a number using the `reduce()` function."
   ]
  },
  {
   "cell_type": "markdown",
   "id": "0e5576aa-7fc7-4058-bab1-579a3be36f52",
   "metadata": {},
   "source": [
    "Ans."
   ]
  },
  {
   "cell_type": "code",
   "execution_count": null,
   "id": "cec598f8-345e-43ab-8451-1c7ecf14806c",
   "metadata": {},
   "outputs": [],
   "source": [
    "from functools import reduce\n",
    "\n",
    "# Define a function to calculate the factorial of a number\n",
    "def factorial(n):\n",
    "    if n == 0:\n",
    "        return 1\n",
    "    else:\n",
    "        return reduce(lambda x, y: x * y, range(1, n+1))\n",
    "\n",
    "# Input the number to calculate its factorial\n",
    "number = int(input(\"Enter a number: \"))\n",
    "\n",
    "# Calculate the factorial using the factorial() function\n",
    "result = factorial(number)\n",
    "\n",
    "# Print the result\n",
    "print(f\"The factorial of {number} is {result}\")\n"
   ]
  },
  {
   "cell_type": "code",
   "execution_count": null,
   "id": "fe18c543-1824-4f69-a185-451c3aa81cfe",
   "metadata": {},
   "outputs": [],
   "source": []
  },
  {
   "cell_type": "code",
   "execution_count": null,
   "id": "221d9bee-8ab8-47f6-8fe5-4abacfabc76a",
   "metadata": {},
   "outputs": [],
   "source": [
    "Create a Python program that uses `reduce()` to find the GCD (Greatest Common Divisor) of a list of numbers.\n"
   ]
  },
  {
   "cell_type": "markdown",
   "id": "26b0f955-ad3a-4297-889d-c3f518bccace",
   "metadata": {},
   "source": [
    "Ans."
   ]
  },
  {
   "cell_type": "code",
   "execution_count": null,
   "id": "939ea7b5-1d8b-4582-961e-0793d2c6ce25",
   "metadata": {},
   "outputs": [],
   "source": [
    "from functools import reduce\n",
    "import math\n",
    "\n",
    "# Define a function to calculate the GCD of two numbers\n",
    "def gcd(x, y):\n",
    "    return math.gcd(x, y)\n",
    "\n",
    "# List of numbers\n",
    "numbers = [36, 48, 60, 72]\n",
    "\n",
    "# Use reduce() to find the GCD of all numbers in the list\n",
    "gcd_of_numbers = reduce(gcd, numbers)\n",
    "\n",
    "# Print the result\n",
    "print(\"The GCD of the numbers is:\", gcd_of_numbers)\n"
   ]
  },
  {
   "cell_type": "markdown",
   "id": "71ee67c0-4adc-459e-b7ee-975b38738586",
   "metadata": {},
   "source": [
    "Write a Python program that uses the `reduce()` function to find the sum of the digits of a given number.\n"
   ]
  },
  {
   "cell_type": "markdown",
   "id": "cb5dc7eb-5c90-45f8-896d-1b0d0b79a05c",
   "metadata": {},
   "source": [
    "Ans."
   ]
  },
  {
   "cell_type": "code",
   "execution_count": null,
   "id": "d5cf520a-731e-4621-ba15-66c4d99e9766",
   "metadata": {},
   "outputs": [],
   "source": [
    "from functools import reduce\n",
    "\n",
    "# Define a function to calculate the sum of two numbers\n",
    "def sum_digits(x, y):\n",
    "    return x + y\n",
    "\n",
    "# Function to convert a number into a list of its digits\n",
    "def digits(n):\n",
    "    return [int(digit) for digit in str(n)]\n",
    "\n",
    "# Input the number\n",
    "number = int(input(\"Enter a number: \"))\n",
    "\n",
    "# Convert the number into a list of its digits\n",
    "digits_list = digits(number)\n",
    "\n",
    "# Use reduce() to find the sum of the digits\n",
    "sum_of_digits = reduce(sum_digits, digits_list)\n",
    "\n",
    "# Print the result\n",
    "print(\"The sum of the digits of the number is:\", sum_of_digits)\n"
   ]
  },
  {
   "cell_type": "code",
   "execution_count": null,
   "id": "4cbba773-09a7-4e14-90f2-31d1af575eef",
   "metadata": {},
   "outputs": [],
   "source": [
    "def digits(n):\n",
    "    return [int(digit) for digit in str(n)]\n",
    "print(digits(1254))\n",
    "print(str(digits(133)))"
   ]
  },
  {
   "cell_type": "code",
   "execution_count": null,
   "id": "f69697c5-96be-4b45-ad0e-762bc8fc8bfe",
   "metadata": {},
   "outputs": [],
   "source": []
  },
  {
   "cell_type": "markdown",
   "id": "dadacb40-1501-434b-b35d-15a7e8d90382",
   "metadata": {},
   "source": [
    "Filter :-\n"
   ]
  },
  {
   "cell_type": "markdown",
   "id": "8624ed65-0cb7-44a9-9849-6a3060910e62",
   "metadata": {},
   "source": [
    "Explain the purpose of the `filter()` function in Python and provide an example of how it can be used to filter elements from an iterable.\n"
   ]
  },
  {
   "cell_type": "raw",
   "id": "f293fa6e-608a-4b0e-aed5-ab6871d14afc",
   "metadata": {},
   "source": [
    "The filter() function in Python is used to filter elements from an iterable (such as a list, tuple, or dictionary) based on a function that returns either True or False. \n",
    "It takes two arguments: the function defining the filtering criteria and the iterable to be filtered.\n",
    "\n",
    "The filter() function applies the function provided as the first argument to each element in the iterable. If the function returns True for an element, that element is included in the output; otherwise, it is excluded."
   ]
  },
  {
   "cell_type": "code",
   "execution_count": null,
   "id": "9a043c12-5e11-46a3-ad4d-3a51ad7705f3",
   "metadata": {},
   "outputs": [],
   "source": [
    "# Define a function to filter odd numbers\n",
    "def is_odd(n):\n",
    "    return n % 2 != 0\n",
    "\n",
    "# Create a list of numbers\n",
    "numbers = [1, 2, 3, 4, 5, 6, 7, 8, 9, 10]\n",
    "\n",
    "# Use filter() to get only the odd numbers\n",
    "odd_numbers = list(filter(is_odd, numbers))\n",
    "\n",
    "print(odd_numbers)  # Output: [1, 3, 5, 7, 9]\n"
   ]
  },
  {
   "cell_type": "code",
   "execution_count": null,
   "id": "b4ef9668-929b-4b98-895b-ed268595befd",
   "metadata": {},
   "outputs": [],
   "source": []
  },
  {
   "cell_type": "markdown",
   "id": "190772d6-9361-481f-b0c8-c62863171759",
   "metadata": {},
   "source": [
    "Write a Python program that uses the `filter()` function to select even numbers from a list of integers"
   ]
  },
  {
   "cell_type": "markdown",
   "id": "ab511fb7-f196-48d1-a54f-7965a581cc96",
   "metadata": {},
   "source": [
    "Ans."
   ]
  },
  {
   "cell_type": "code",
   "execution_count": null,
   "id": "22842afb-6604-4e30-86ac-b45dc9351866",
   "metadata": {},
   "outputs": [],
   "source": [
    "\n",
    "def is_even(n):\n",
    "    return n % 2 == 0\n",
    "\n",
    "numbers = [1, 2, 3, 4, 5, 6, 7, 8, 9, 10]\n",
    "\n",
    "\n",
    "even_numbers = list(filter(is_even, numbers))\n",
    "\n",
    "print(even_numbers)  # Output: [2, 4, 6, 8, 10]\n"
   ]
  },
  {
   "cell_type": "code",
   "execution_count": null,
   "id": "70cd99e8-c8f7-40dc-96b1-2165af7d5754",
   "metadata": {},
   "outputs": [],
   "source": []
  },
  {
   "cell_type": "markdown",
   "id": "ecdb619c-b6fb-43ff-b0da-a54a0c811ed8",
   "metadata": {},
   "source": [
    "Create a Python program that uses the `filter()` function to select names that start with a specific letter from a list of strings.\n"
   ]
  },
  {
   "cell_type": "markdown",
   "id": "395ef146-bee1-46f9-ae78-12e7ed58e83b",
   "metadata": {},
   "source": [
    "Ans."
   ]
  },
  {
   "cell_type": "code",
   "execution_count": null,
   "id": "0e71fe52-511f-448f-835b-5beb8a0ded02",
   "metadata": {},
   "outputs": [],
   "source": [
    "names = [\"Alice\", \"Bob\", \"Charlie\", \"David\", \"Eve\", \"Frank\"]\n",
    "\n",
    "# Function to filter names starting with a specific letter\n",
    "def starts_with_letter(letter):\n",
    "    return lambda name: name.startswith(letter)\n",
    "\n",
    "# Specify the letter to filter names\n",
    "letter_to_filter = \"C\"\n",
    "\n",
    "# Use filter() to get only the names starting with the specified letter\n",
    "filtered_names = list(filter(starts_with_letter(letter_to_filter), names))\n",
    "\n",
    "print(filtered_names)\n"
   ]
  },
  {
   "cell_type": "code",
   "execution_count": null,
   "id": "5b45a60c-cf16-4d1f-9d00-25f929fc6324",
   "metadata": {},
   "outputs": [],
   "source": []
  },
  {
   "cell_type": "markdown",
   "id": "b3c80de7-a251-4121-9447-802003541f54",
   "metadata": {},
   "source": [
    "Write a Python program that uses the `filter()` function to select prime numbers from a list of integers."
   ]
  },
  {
   "cell_type": "markdown",
   "id": "9fb90d68-e148-4a8e-9479-dd3894a2acf7",
   "metadata": {},
   "source": [
    "Ans."
   ]
  },
  {
   "cell_type": "code",
   "execution_count": null,
   "id": "a49035ee-e26e-42bf-882b-5336069b0a73",
   "metadata": {},
   "outputs": [],
   "source": [
    "# Function to check if a number is prime\n",
    "def is_prime(n):\n",
    "    if n <= 1:\n",
    "        return False\n",
    "    elif n <= 3:\n",
    "        return True\n",
    "    elif n % 2 == 0 or n % 3 == 0:\n",
    "        return False\n",
    "    i = 5\n",
    "    while i * i <= n:\n",
    "        if n % i == 0 or n % (i + 2) == 0:\n",
    "            return False\n",
    "        i += 6\n",
    "    return True\n",
    "\n",
    "# List of integers\n",
    "numbers = [2, 3, 4, 5, 6, 7, 8, 9, 10, 11, 12, 13, 14, 15]\n",
    "\n",
    "# Use filter() to get only the prime numbers\n",
    "prime_numbers = list(filter(is_prime, numbers))\n",
    "\n",
    "print(prime_numbers)\n"
   ]
  },
  {
   "cell_type": "code",
   "execution_count": null,
   "id": "638db45b-da55-4016-be43-144df94b14fe",
   "metadata": {},
   "outputs": [],
   "source": []
  },
  {
   "cell_type": "markdown",
   "id": "8f95c6c7-fe10-4b46-a31f-6e7d77546850",
   "metadata": {},
   "source": [
    "How can you use the `filter()` function to remove None values from a list in Python?"
   ]
  },
  {
   "cell_type": "markdown",
   "id": "e4cb019a-d0d7-4d7d-9c39-c48b2a44d7de",
   "metadata": {},
   "source": [
    "Ans."
   ]
  },
  {
   "cell_type": "code",
   "execution_count": null,
   "id": "c3fc3975-2962-4fb7-95d2-e13d1a3700bf",
   "metadata": {},
   "outputs": [],
   "source": [
    "# List with None values\n",
    "values = [1, None, 2, None, 3, None, 4, None, 5, None]\n",
    "\n",
    "# Use filter() to remove None values\n",
    "filtered_values = list(filter(lambda x: x is not None, values))\n",
    "\n",
    "print(filtered_values)\n"
   ]
  },
  {
   "cell_type": "code",
   "execution_count": null,
   "id": "982cf922-7c18-4415-b19e-3b81e0fbddf7",
   "metadata": {},
   "outputs": [],
   "source": [
    "Write a Python program that uses the `filter()` function to select elements greater than a specified threshold from a list of values.\n",
    "\n"
   ]
  },
  {
   "cell_type": "markdown",
   "id": "d2da693c-8d3a-450c-b6e8-fcaf00c1036c",
   "metadata": {},
   "source": [
    "Ans."
   ]
  },
  {
   "cell_type": "code",
   "execution_count": null,
   "id": "478899e3-64e0-412d-a47e-9b9508916cae",
   "metadata": {},
   "outputs": [],
   "source": [
    "# List of values\n",
    "values = [10, 25, 30, 15, 5, 40, 20]\n",
    "\n",
    "# Specify the threshold\n",
    "threshold = 20\n",
    "\n",
    "# Use filter() to get only the elements greater than the threshold\n",
    "filtered_values = list(filter(lambda x: x > threshold, values))\n",
    "\n",
    "print(filtered_values)\n"
   ]
  },
  {
   "cell_type": "code",
   "execution_count": null,
   "id": "5641ad3b-3483-46d2-b485-8d135d5d257a",
   "metadata": {},
   "outputs": [],
   "source": []
  },
  {
   "cell_type": "markdown",
   "id": "cd5729e8-39fb-4c24-8470-ad91a17426c6",
   "metadata": {},
   "source": [
    "Create a Python program that uses `filter()` to select words longer than a certain length from a list of strings."
   ]
  },
  {
   "cell_type": "markdown",
   "id": "d8c36862-e3c2-460c-9ee5-70e4389c119b",
   "metadata": {},
   "source": [
    "Ans."
   ]
  },
  {
   "cell_type": "code",
   "execution_count": null,
   "id": "4c8bb147-d2be-48af-88d8-0a2626027c37",
   "metadata": {},
   "outputs": [],
   "source": [
    "# List of strings\n",
    "words = [\"apple\", \"banana\", \"orange\", \"grape\", \"watermelon\", \"kiwi\"]\n",
    "\n",
    "# Function to filter words longer than a certain length\n",
    "def longer_than(length):\n",
    "    return lambda word: len(word) > length\n",
    "\n",
    "# Specify the minimum length to filter words\n",
    "min_length = 5\n",
    "\n",
    "# Use filter() to get only the words longer than the specified length\n",
    "filtered_words = list(filter(longer_than(min_length), words))\n",
    "\n",
    "print(filtered_words)\n"
   ]
  },
  {
   "cell_type": "code",
   "execution_count": null,
   "id": "edc84c8a-d50c-4e4d-8d8b-ae0abd439524",
   "metadata": {},
   "outputs": [],
   "source": []
  },
  {
   "cell_type": "markdown",
   "id": "00578d19-ba74-4f71-a911-3a95b934eeb1",
   "metadata": {},
   "source": [
    "Recursion:-\n"
   ]
  },
  {
   "cell_type": "markdown",
   "id": "dc201c4b-9817-4725-9b30-9a30ef6a1810",
   "metadata": {},
   "source": [
    "Explain the concept of recursion in Python. How does it differ from iteration?"
   ]
  },
  {
   "cell_type": "markdown",
   "id": "be4531c8-1cfd-4499-944b-1c2475438540",
   "metadata": {},
   "source": [
    "Ans."
   ]
  },
  {
   "cell_type": "markdown",
   "id": "4f740f83-02e8-4842-aebc-2f9cdddfa1d4",
   "metadata": {},
   "source": [
    "Recursion is a programming technique in which a function calls itself in order to solve a problem. In Python, recursion allows functions to be defined in terms of themselves.\n",
    "This can be useful for solving problems that can be broken down into smaller, similar subproblems.\n",
    "\n",
    "Recursion involves breaking a problem down into smaller, more manageable subproblems until a base case is reached. \n",
    "The base case is a condition where the function returns a result without making any further recursive calls. Without a base case, the recursion would continue indefinitely,\n",
    "resulting in what's called a \"stack overflow\" erro"
   ]
  },
  {
   "cell_type": "code",
   "execution_count": null,
   "id": "483d8da9-c148-4104-ae58-2f406a1a1aa6",
   "metadata": {},
   "outputs": [],
   "source": [
    "def factorial(n):\n",
    "    if n == 0:\n",
    "        return 1\n",
    "    else:\n",
    "        return n * factorial(n - 1)\n"
   ]
  },
  {
   "cell_type": "code",
   "execution_count": null,
   "id": "6ff86044-c90f-4164-8808-51a04b8ccc8c",
   "metadata": {},
   "outputs": [],
   "source": []
  },
  {
   "cell_type": "markdown",
   "id": "b13b1bf6-e434-4168-b259-632d44d183cd",
   "metadata": {},
   "source": [
    "Write a Python program to calculate the factorial of a number using recursion."
   ]
  },
  {
   "cell_type": "markdown",
   "id": "a3baefec-afc4-4aa2-bcce-c42ddfe048f4",
   "metadata": {},
   "source": [
    "Ans."
   ]
  },
  {
   "cell_type": "code",
   "execution_count": null,
   "id": "754592a1-220c-454f-be4e-7e1831996a32",
   "metadata": {},
   "outputs": [],
   "source": [
    "def factorial(n):\n",
    "    if n == 0:\n",
    "        return 1\n",
    "    else:\n",
    "        return n * factorial(n - 1)\n",
    "\n",
    "# Input number\n",
    "num = int(input(\"Enter a non-negative integer: \"))\n",
    "\n",
    "# Check if the number is non-negative\n",
    "if num < 0:\n",
    "    print(\"Factorial is not defined for negative numbers.\")\n",
    "else:\n",
    "    print(\"Factorial of\", num, \"is\", factorial(num))\n"
   ]
  },
  {
   "cell_type": "markdown",
   "id": "90a1fc27-5853-4328-a9a7-e67399db51c3",
   "metadata": {},
   "source": [
    "Create a recursive Python function to find the nth Fibonacci number.\n"
   ]
  },
  {
   "cell_type": "markdown",
   "id": "e1bad89c-fa15-487d-8aa4-b45c4a3dba6b",
   "metadata": {},
   "source": [
    "Ans."
   ]
  },
  {
   "cell_type": "code",
   "execution_count": null,
   "id": "1e201675-6fca-4709-8846-3b948e6e3a70",
   "metadata": {},
   "outputs": [],
   "source": [
    "def fibonacci(n):\n",
    "    if n <= 0:\n",
    "        return \"Invalid input. Please provide a positive integer.\"\n",
    "    elif n == 1:\n",
    "        return 0\n",
    "    elif n == 2:\n",
    "        return 1\n",
    "    else:\n",
    "        return fibonacci(n - 1) + fibonacci(n - 2)\n",
    "\n",
    "# Input number\n",
    "num = int(input(\"Enter a positive integer to find the nth Fibonacci number: \"))\n",
    "\n",
    "# Calculate and print the nth Fibonacci number\n",
    "print(\"The nth Fibonacci number is:\", fibonacci(num))\n"
   ]
  },
  {
   "cell_type": "markdown",
   "id": "228fb12b-1b8b-4eb8-9ba3-6acfb8db8cef",
   "metadata": {},
   "source": [
    "Write a recursive Python function to calculate the sum of all elements in a list.\n",
    "\n"
   ]
  },
  {
   "cell_type": "markdown",
   "id": "feb0dd1a-891d-469a-b45c-31013c91eaac",
   "metadata": {},
   "source": [
    "Ans."
   ]
  },
  {
   "cell_type": "code",
   "execution_count": null,
   "id": "aca4125e-e4c6-4ac2-a459-94a30a89fb0f",
   "metadata": {},
   "outputs": [],
   "source": [
    "def recursive_sum(lst):\n",
    "    if len(lst) == 0:\n",
    "        return 0\n",
    "    else:\n",
    "        return lst[0] + recursive_sum(lst[1:])\n",
    "\n",
    "# Example list\n",
    "my_list = [1, 2, 3, 4, 5]\n",
    "\n",
    "# Calculate and print the sum of all elements in the list\n",
    "print(\"The sum of all elements in the list is:\", recursive_sum(my_list))\n"
   ]
  },
  {
   "cell_type": "markdown",
   "id": "0636a66c-91a5-4303-98ed-e8ee04917f7c",
   "metadata": {},
   "source": [
    "How can you prevent a recursive function from running indefinitely, causing a stack overflow error?\n"
   ]
  },
  {
   "cell_type": "code",
   "execution_count": null,
   "id": "0d7704c5-d9aa-4cef-8503-be31257c1990",
   "metadata": {},
   "outputs": [],
   "source": [
    "Ans."
   ]
  },
  {
   "cell_type": "code",
   "execution_count": null,
   "id": "3930b128-b5e5-411a-80b5-718ea609b4c2",
   "metadata": {},
   "outputs": [],
   "source": [
    "def factorial(n):\n",
    "    if n == 0:  # Base case\n",
    "        return 1\n",
    "    else:\n",
    "        return n * factorial(n - 1)\n",
    "\n",
    "result = factorial(5)\n",
    "print(result)  # Output: 120\n"
   ]
  },
  {
   "cell_type": "code",
   "execution_count": null,
   "id": "66a5ffb7-d0d7-495e-8006-ddbcf284cc03",
   "metadata": {},
   "outputs": [],
   "source": []
  },
  {
   "cell_type": "markdown",
   "id": "df181b9c-ff20-40f6-a17c-86f18710dcbd",
   "metadata": {},
   "source": [
    "Create a recursive Python function to find the greatest common divisor (GCD) of two numbers using the Euclidean algorithm.\n"
   ]
  },
  {
   "cell_type": "markdown",
   "id": "ccbaa912-3b9d-4682-8825-f07e8760411f",
   "metadata": {},
   "source": [
    "Ans."
   ]
  },
  {
   "cell_type": "code",
   "execution_count": null,
   "id": "53cf489a-11b4-40d9-9e1e-b271d1f1a076",
   "metadata": {},
   "outputs": [],
   "source": [
    "def gcd(a, b):\n",
    "    if b == 0:\n",
    "        return a\n",
    "    else:\n",
    "        return gcd(b, a % b)\n",
    "\n",
    "# Example numbers\n",
    "num1 = 48\n",
    "num2 = 18\n",
    "\n",
    "# Calculate and print the GCD\n",
    "print(\"The GCD of\", num1, \"and\", num2, \"is:\", gcd(num1, num2))\n"
   ]
  },
  {
   "cell_type": "markdown",
   "id": "41cc57ae-9cae-4644-bb76-ecfa4021ce3d",
   "metadata": {},
   "source": [
    "Write a recursive Python function to reverse a string.\n"
   ]
  },
  {
   "cell_type": "markdown",
   "id": "1a504acd-faba-4cdf-afc7-8b5f6e5fea18",
   "metadata": {},
   "source": [
    "Ans."
   ]
  },
  {
   "cell_type": "code",
   "execution_count": null,
   "id": "1ed2fad9-bb76-4f33-8e9f-b93d2ddf1410",
   "metadata": {},
   "outputs": [],
   "source": [
    "def reverse_string(s):\n",
    "    if len(s) <= 1:\n",
    "        return s\n",
    "    else:\n",
    "        return reverse_string(s[1:]) + s[0]\n",
    "\n",
    "# Example string\n",
    "my_string = \"hello\"\n",
    "\n",
    "# Reverse the string and print the result\n",
    "print(\"Original string:\", my_string)\n",
    "print(\"Reversed string:\", reverse_string(my_string))\n"
   ]
  },
  {
   "cell_type": "markdown",
   "id": "0ed16e79-1ec3-41f4-acd6-bd97d92746ff",
   "metadata": {},
   "source": [
    "Create a recursive Python function to calculate the power of a number (x^n)."
   ]
  },
  {
   "cell_type": "markdown",
   "id": "0ec2874e-5e87-4678-9173-7feae7852eac",
   "metadata": {},
   "source": [
    "Ans."
   ]
  },
  {
   "cell_type": "code",
   "execution_count": null,
   "id": "e3fe48cd-bdef-40e7-bd9b-6bb9d7a693a4",
   "metadata": {},
   "outputs": [],
   "source": [
    "def power(x, n):\n",
    "    if n == 0:\n",
    "        return 1\n",
    "    elif n < 0:\n",
    "        return 1 / power(x, -n)\n",
    "    elif n % 2 == 0:\n",
    "        return power(x, n // 2) * power(x, n // 2)\n",
    "    else:\n",
    "        return x * power(x, n - 1)\n",
    "\n",
    "# Example number and power\n",
    "base = 2\n",
    "exponent = 5\n",
    "\n",
    "# Calculate and print the result\n",
    "print(\"The result of\", base, \"raised to the power of\", exponent, \"is:\", power(base, exponent))\n"
   ]
  },
  {
   "cell_type": "markdown",
   "id": "aa9f852e-da1b-43dd-b7d0-ff886b5be4cf",
   "metadata": {},
   "source": [
    "Write a recursive Python function to find all permutations of a given string."
   ]
  },
  {
   "cell_type": "markdown",
   "id": "575b5a0e-5383-4d88-9fb6-ee1d3e891486",
   "metadata": {},
   "source": [
    "Ans."
   ]
  },
  {
   "cell_type": "code",
   "execution_count": null,
   "id": "9c473ce4-3cc5-4837-a0d5-b24d773c6897",
   "metadata": {},
   "outputs": [],
   "source": [
    "def permutations(s):\n",
    "    if len(s) == 1:\n",
    "        return [s]\n",
    "\n",
    "    result = []\n",
    "    for i, char in enumerate(s):\n",
    "        remaining_chars = s[:i] + s[i + 1:]\n",
    "        for perm in permutations(remaining_chars):\n",
    "            result.append(char + perm)\n",
    "    return result\n",
    "\n",
    "# Example string\n",
    "my_string = \"abc\"\n",
    "\n",
    "# Find and print all permutations\n",
    "print(\"All permutations of\", my_string, \"are:\")\n",
    "for perm in permutations(my_string):\n",
    "    print(perm)\n"
   ]
  },
  {
   "cell_type": "markdown",
   "id": "fd897b33-58c4-45cc-b5c6-86406e3ffc62",
   "metadata": {},
   "source": [
    "Write a recursive Python function to check if a string is a palindrome."
   ]
  },
  {
   "cell_type": "markdown",
   "id": "da4f11bd-f1d0-4bcf-9564-2b580ef6d715",
   "metadata": {},
   "source": [
    "Ans."
   ]
  },
  {
   "cell_type": "code",
   "execution_count": null,
   "id": "69d52889-4219-43cc-9d44-c5bf9eafc016",
   "metadata": {},
   "outputs": [],
   "source": [
    "def is_palindrome(s):\n",
    "    # Base case: If the length of the string is 0 or 1, it's a palindrome\n",
    "    if len(s) <= 1:\n",
    "        return True\n",
    "    # Check if the first and last characters are equal\n",
    "    elif s[0] != s[-1]:\n",
    "        return False\n",
    "    # Recursively check the substring without the first and last characters\n",
    "    else:\n",
    "        return is_palindrome(s[1:-1])\n",
    "\n",
    "# Example strings\n",
    "string1 = \"racecar\"\n",
    "string2 = \"hello\"\n",
    "\n",
    "# Check if the strings are palindromes and print the result\n",
    "print(f\"'{string1}' is a palindrome: {is_palindrome(string1)}\")\n",
    "print(f\"'{string2}' is a palindrome: {is_palindrome(string2)}\")\n"
   ]
  },
  {
   "cell_type": "markdown",
   "id": "d3a5d80d-31d4-4c8f-9151-bce6d4a2e8cb",
   "metadata": {},
   "source": [
    "Create a recursive Python function to generate all possible combinations of a list of elements.\n"
   ]
  },
  {
   "cell_type": "markdown",
   "id": "3b0b1b65-4a5a-4fc3-9056-e0c3055b3d24",
   "metadata": {},
   "source": [
    "Ans."
   ]
  },
  {
   "cell_type": "code",
   "execution_count": null,
   "id": "39533b12-097c-43a6-b567-5c15819c7acb",
   "metadata": {},
   "outputs": [],
   "source": [
    "def combinations(lst):\n",
    "    if len(lst) == 0:\n",
    "        return [[]]\n",
    "    else:\n",
    "        head = lst[0]\n",
    "        tail = lst[1:]\n",
    "        tail_combinations = combinations(tail)\n",
    "        return tail_combinations + [[head] + item for item in tail_combinations]\n",
    "\n",
    "# Example list of elements\n",
    "my_list = ['a', 'b', 'c']\n",
    "\n",
    "# Generate and print all possible combinations\n",
    "print(\"All possible combinations of\", my_list, \"are:\")\n",
    "for combo in combinations(my_list):\n",
    "    print(combo)\n"
   ]
  },
  {
   "cell_type": "code",
   "execution_count": null,
   "id": "58149c79-200f-4d76-aede-78b15382b11b",
   "metadata": {},
   "outputs": [],
   "source": []
  },
  {
   "cell_type": "markdown",
   "id": "fbe477cd-1821-4da1-b598-f35e8d2c013f",
   "metadata": {},
   "source": [
    "Basics of Functions:"
   ]
  },
  {
   "cell_type": "markdown",
   "id": "347de146-bdb0-453d-a7d2-fdc1555216a9",
   "metadata": {},
   "source": [
    "What is a function in Python, and why is it used?"
   ]
  },
  {
   "cell_type": "markdown",
   "id": "dbf1081f-289f-4470-b3f0-a526a6b17b6a",
   "metadata": {},
   "source": [
    "Ans."
   ]
  },
  {
   "cell_type": "markdown",
   "id": "ac22a939-6256-4a2b-9799-8ecd5c72c29e",
   "metadata": {},
   "source": [
    "In Python, a function is a block of reusable code that performs a specific task. It groups a set of statements together to run when called.\n",
    "Functions provide a way to organize code into manageable chunks, making it easier to understand, debug, and maintain.\n",
    "\n",
    "Functions in Python are defined using the def keyword followed by the function name, parentheses (), and a colon :. \n",
    "You can also define parameters within the parentheses to pass data to the function"
   ]
  },
  {
   "cell_type": "code",
   "execution_count": null,
   "id": "680b4205-1abe-4fc3-bbea-52ddce53f7e7",
   "metadata": {},
   "outputs": [],
   "source": []
  },
  {
   "cell_type": "markdown",
   "id": "dce4ab24-d156-4c6f-9e48-4c3548759c8e",
   "metadata": {},
   "source": [
    "How do you define a function in Python? Provide an example."
   ]
  },
  {
   "cell_type": "markdown",
   "id": "98777c43-00d4-464f-ab78-fcb87d79c9ea",
   "metadata": {},
   "source": [
    "Ans."
   ]
  },
  {
   "cell_type": "markdown",
   "id": "8ebc9136-4a35-4635-9ee2-c8f7723b13b1",
   "metadata": {},
   "source": [
    "To define a function in Python, you use the def keyword followed by the name of the function, parentheses (), and a colon :. \n",
    "If the function takes parameters, you list them inside the parentheses. \n",
    "The body of the function, where you write the code that the function will execute, is indented below the function definition."
   ]
  },
  {
   "cell_type": "code",
   "execution_count": null,
   "id": "35288e80-127e-4745-b894-b6272c33c29f",
   "metadata": {},
   "outputs": [],
   "source": [
    "def greet(name):\n",
    "    \"\"\"\n",
    "    This function greets the user.\n",
    "    \"\"\"\n",
    "    print(\"Hello, \" + name + \"!\")\n",
    "\n",
    "# Calling the function\n",
    "greet(\"Alice\")\n"
   ]
  },
  {
   "cell_type": "code",
   "execution_count": null,
   "id": "e8a520db-cf5c-433b-9e0f-6a1289c1959d",
   "metadata": {},
   "outputs": [],
   "source": []
  },
  {
   "cell_type": "markdown",
   "id": "39cc8200-d109-42ef-8e0e-e14ee7026beb",
   "metadata": {},
   "source": [
    "Explain the difference between a function definition and a function call."
   ]
  },
  {
   "cell_type": "markdown",
   "id": "0f1a17ad-38d7-45a0-afdb-7a21b3230b68",
   "metadata": {},
   "source": [
    "Ans."
   ]
  },
  {
   "cell_type": "code",
   "execution_count": null,
   "id": "74abcdba-1645-4a17-b163-87eeffdb9cb1",
   "metadata": {},
   "outputs": [],
   "source": [
    "Function Definition:\n",
    "\n",
    "A function definition is where you actually define the behavior of a function in Python.\n",
    "It starts with the def keyword followed by the function name, parameters (if any), a colon :, and then the body of the function.\n",
    "In the function definition, you specify what the function does when it is called.\n",
    "It typically includes one or more statements that execute a specific task.\n",
    "Once defined, the function can be called multiple times throughout the program."
   ]
  },
  {
   "cell_type": "code",
   "execution_count": null,
   "id": "f9348d9a-1b51-4f8d-b49f-61fa9550a090",
   "metadata": {},
   "outputs": [],
   "source": []
  },
  {
   "cell_type": "markdown",
   "id": "be37f7a6-c70d-4dbe-a5b6-0e986d531b71",
   "metadata": {},
   "source": [
    "Write a Python program that defines a function to calculate the sum of two numbers and then calls the function."
   ]
  },
  {
   "cell_type": "markdown",
   "id": "c98182d6-b670-4433-9cff-38d2969395ff",
   "metadata": {},
   "source": [
    "Ans."
   ]
  },
  {
   "cell_type": "code",
   "execution_count": null,
   "id": "59b6ff79-245b-4d77-a467-24cd27034d50",
   "metadata": {},
   "outputs": [],
   "source": [
    "def calculate_sum(a, b):\n",
    "    \"\"\"\n",
    "    This function calculates the sum of two numbers.\n",
    "    \"\"\"\n",
    "    return a + b\n",
    "\n",
    "# Calling the function\n",
    "num1 = 10\n",
    "num2 = 20\n",
    "result = calculate_sum(num1, num2)\n",
    "\n",
    "print(f\"The sum of {num1} and {num2} is: {result}\")\n"
   ]
  },
  {
   "cell_type": "markdown",
   "id": "4ac3e0bf-0592-406d-920d-3e1892322731",
   "metadata": {},
   "source": [
    "What is a function signature, and what information does it typically include?"
   ]
  },
  {
   "cell_type": "markdown",
   "id": "1c9b23f4-ea86-449a-869f-16119780f389",
   "metadata": {},
   "source": [
    "Ans."
   ]
  },
  {
   "cell_type": "markdown",
   "id": "d894bd0f-ec16-4502-bbb7-d977d1c17fde",
   "metadata": {},
   "source": [
    "A function signature is a concise summary of a function's interface in programming languages. It typically includes the following information:\n",
    "\n",
    "Function Name: The name of the function, which uniquely identifies it within the program.\n",
    "\n",
    "Return Type: The type of value that the function returns. It could be any valid data type or void if the function doesn't return anything.\n",
    "\n",
    "Parameters: The list of parameters (if any) that the function accepts. Each parameter includes its data type and name."
   ]
  },
  {
   "cell_type": "code",
   "execution_count": null,
   "id": "b85bb660-21ae-40aa-af51-822501e81c48",
   "metadata": {},
   "outputs": [],
   "source": []
  },
  {
   "cell_type": "markdown",
   "id": "e60dc177-c0da-42bc-9c6d-cae0e4c6afba",
   "metadata": {},
   "source": [
    "Create a Python function that takes two arguments and returns their product.\n"
   ]
  },
  {
   "cell_type": "raw",
   "id": "fe0d340a-ba2c-4ce6-8e08-7c0e9a18d2c3",
   "metadata": {},
   "source": [
    "Ans."
   ]
  },
  {
   "cell_type": "code",
   "execution_count": null,
   "id": "e05dfd6c-0c4d-4696-b102-29bc3ec32f58",
   "metadata": {},
   "outputs": [],
   "source": [
    "def calculate_product(a, b):\n",
    "    \"\"\"\n",
    "    This function calculates the product of two numbers.\n",
    "    \"\"\"\n",
    "    return a * b\n",
    "\n",
    "# Example usage:\n",
    "num1 = 5\n",
    "num2 = 7\n",
    "result = calculate_product(num1, num2)\n",
    "print(f\"The product of {num1} and {num2} is: {result}\")\n"
   ]
  },
  {
   "cell_type": "code",
   "execution_count": null,
   "id": "36e69623-6884-4834-826a-6f2c7bc06394",
   "metadata": {},
   "outputs": [],
   "source": []
  },
  {
   "cell_type": "markdown",
   "id": "f12641fa-3566-48a7-9e20-ec1eb209d491",
   "metadata": {},
   "source": [
    "Function Parameters and Arguments:"
   ]
  },
  {
   "cell_type": "markdown",
   "id": "b92e43bc-85a8-45de-9650-18e4405f2bd8",
   "metadata": {},
   "source": [
    "Explain the concepts of formal parameters and actual arguments in Python functions.\n"
   ]
  },
  {
   "cell_type": "markdown",
   "id": "2dd303e2-26e0-4c5a-a081-5088ce61fa5c",
   "metadata": {},
   "source": [
    "Ans."
   ]
  },
  {
   "cell_type": "code",
   "execution_count": null,
   "id": "8568fc6d-f486-417f-b345-d1d6809c2cf3",
   "metadata": {},
   "outputs": [],
   "source": []
  },
  {
   "cell_type": "markdown",
   "id": "1b3956cd-588b-48cc-b378-5eb5481356e1",
   "metadata": {},
   "source": [
    "Write a Python program that defines a function with default argument values.\n"
   ]
  },
  {
   "cell_type": "markdown",
   "id": "1ddc2977-932f-4e55-af9a-87989269b6cd",
   "metadata": {},
   "source": [
    "Ans."
   ]
  },
  {
   "cell_type": "markdown",
   "id": "80579727-9fc9-4c04-841d-4442b3c8c25c",
   "metadata": {},
   "source": [
    "Formal Parameters:\n",
    "\n",
    "Formal parameters are placeholders for the values that will be supplied to the function when it is called.\n",
    "They are declared in the function definition and represent the inputs that the function expects to receive.\n",
    "Formal parameters act as local variables within the function's scope.\n",
    "You can think of formal parameters as variables that are used within the function to perform operations or calculations."
   ]
  },
  {
   "cell_type": "markdown",
   "id": "0d230b57-7bb9-4944-9ca1-96dc3aa743fa",
   "metadata": {},
   "source": [
    "Actual Arguments:\n",
    "\n",
    "Actual arguments are the values that are passed to the function when it is called.\n",
    "They are the real data or variables that are supplied to the function for processing.\n",
    "Actual arguments are provided in the function call and correspond to the formal parameters in the function definition.\n",
    "There are different ways to pass actual arguments, such as positional arguments, keyword arguments, default arguments, and variable-length arguments."
   ]
  },
  {
   "cell_type": "code",
   "execution_count": null,
   "id": "59ba5ecb-c2b7-42f9-beb0-be4d005b6e1d",
   "metadata": {},
   "outputs": [],
   "source": []
  },
  {
   "cell_type": "markdown",
   "id": "6c655f4c-dba9-4838-acd2-edc03473846c",
   "metadata": {},
   "source": [
    "How do you use keyword arguments in Python function calls? Provide an example."
   ]
  },
  {
   "cell_type": "markdown",
   "id": "ccef01d2-76af-442d-8c45-d70ee45688df",
   "metadata": {},
   "source": [
    "Ans."
   ]
  },
  {
   "cell_type": "code",
   "execution_count": null,
   "id": "c2cb329c-28d7-4986-8ec6-0b9e3454bc7b",
   "metadata": {},
   "outputs": [],
   "source": [
    "def greet(name=\"Guest\"):\n",
    "    \"\"\"\n",
    "    This function greets the user with a given name. If no name is provided, it greets with \"Guest\".\n",
    "    \"\"\"\n",
    "    print(\"Hello, \" + name + \"!\")\n",
    "\n",
    "# Calling the function with default argument\n",
    "greet()\n",
    "\n",
    "# Calling the function with a specific name\n",
    "greet(\"Alice\")\n"
   ]
  },
  {
   "cell_type": "code",
   "execution_count": null,
   "id": "41ca05b6-b885-473f-87cc-2a1987885c6c",
   "metadata": {},
   "outputs": [],
   "source": []
  },
  {
   "cell_type": "markdown",
   "id": "28e06392-6274-43bf-a9b4-67f336ef3c33",
   "metadata": {},
   "source": [
    "Create a Python function that accepts a variable number of arguments and calculates their sum."
   ]
  },
  {
   "cell_type": "markdown",
   "id": "9077d31f-552e-48e9-8220-27e6f7931013",
   "metadata": {},
   "source": [
    "Ans."
   ]
  },
  {
   "cell_type": "code",
   "execution_count": null,
   "id": "894d88ec-d8f0-4962-b7b8-b1017daf0479",
   "metadata": {},
   "outputs": [],
   "source": [
    "def calculate_sum(*args):\n",
    "    \"\"\"\n",
    "    This function calculates the sum of all the numbers passed as arguments.\n",
    "    \"\"\"\n",
    "    total = 0\n",
    "    for num in args:\n",
    "        total += num\n",
    "    return total\n",
    "\n",
    "# Example usage:\n",
    "result = calculate_sum(1, 2, 3, 4, 5)\n",
    "print(\"Sum:\", result)  # Output will be 15\n",
    "\n",
    "result = calculate_sum(10, 20, 30)\n",
    "print(\"Sum:\", result)  # Output will be 60\n"
   ]
  },
  {
   "cell_type": "code",
   "execution_count": null,
   "id": "ef48f789-6f50-427d-bff1-06a4c8a6eef9",
   "metadata": {},
   "outputs": [],
   "source": []
  },
  {
   "cell_type": "markdown",
   "id": "ebe5d56b-73ea-441a-a143-c5b653e7593e",
   "metadata": {},
   "source": [
    "What is the purpose of the `*args` and `**kwargs` syntax in function parameter lists?\n"
   ]
  },
  {
   "cell_type": "markdown",
   "id": "4e582446-f8fc-4837-887a-449c4ad3e9c1",
   "metadata": {},
   "source": [
    "Ans."
   ]
  },
  {
   "cell_type": "raw",
   "id": "63cc0b78-40d7-49be-8993-8e4bb25056a1",
   "metadata": {},
   "source": [
    "*args:\n",
    "\n",
    "The *args syntax allows a function to accept an arbitrary number of positional arguments.\n",
    "When *args is used as a parameter in a function definition, it collects any number of positional arguments passed to the function and stores them in a tuple.\n",
    "This allows functions to be flexible in terms of the number of arguments they can accept.\n",
    "**kwargs:\n",
    "\n",
    "The **kwargs syntax allows a function to accept an arbitrary number of keyword arguments (i.e., arguments specified with keyword-value pairs).\n",
    "When **kwargs is used as a parameter in a function definition, it collects any keyword arguments passed to the function and stores them in a dictionary where the keys are the argument names and the values are the corresponding values.\n",
    "This allows functions to accept additional named arguments without explicitly defining them in the function signature."
   ]
  },
  {
   "cell_type": "code",
   "execution_count": null,
   "id": "9b8d36ba-b789-43f7-b04d-691ff4f0fd4b",
   "metadata": {},
   "outputs": [],
   "source": []
  },
  {
   "cell_type": "raw",
   "id": "3e76cb29-a89a-44fb-b9d0-92a4081f320d",
   "metadata": {},
   "source": [
    "Return Values and Scoping:"
   ]
  },
  {
   "cell_type": "markdown",
   "id": "ae11e4d5-e2ff-4790-9a80-25874d3420dd",
   "metadata": {},
   "source": [
    "Describe the role of the `return` statement in Python functions and provide examples.\n"
   ]
  },
  {
   "cell_type": "markdown",
   "id": "88266e7b-8bfd-462b-87f0-341b0bfb5083",
   "metadata": {},
   "source": [
    "Ans."
   ]
  },
  {
   "cell_type": "markdown",
   "id": "f2bbd6e6-2dee-4945-88fa-18e592b3f3b7",
   "metadata": {},
   "source": [
    "The return statement in Python functions is used to explicitly specify the value(s) that the function should return to the caller. \n",
    "When a return statement is encountered in a function, the function immediately exits,\n",
    "and the specified value(s) are passed back to the caller."
   ]
  },
  {
   "cell_type": "code",
   "execution_count": null,
   "id": "6b9adb77-7a8c-42b2-842f-bdb7d9d53f3d",
   "metadata": {},
   "outputs": [],
   "source": []
  },
  {
   "cell_type": "code",
   "execution_count": null,
   "id": "b7370558-d3f1-4649-9ce3-df90a2e0bb45",
   "metadata": {},
   "outputs": [],
   "source": []
  },
  {
   "cell_type": "markdown",
   "id": "687575b9-4a22-4d26-af60-198a0481c499",
   "metadata": {},
   "source": [
    "Explain the concept of variable scope in Python, including local and global variables."
   ]
  },
  {
   "cell_type": "markdown",
   "id": "38d5d7a5-46b6-4eb2-ac12-6a0fed903bc1",
   "metadata": {},
   "source": [
    "Ans."
   ]
  },
  {
   "cell_type": "code",
   "execution_count": 29,
   "id": "d73ded4a-b4c8-4b84-a376-8c4c93431889",
   "metadata": {},
   "outputs": [
    {
     "name": "stdout",
     "output_type": "stream",
     "text": [
      "Inside function: 25\n",
      "Outside function: 25\n"
     ]
    }
   ],
   "source": [
    "y = 20  # Global variable\n",
    "\n",
    "def my_function():\n",
    "    global y\n",
    "    y += 5  # Modifying the global variable\n",
    "    print(\"Inside function:\", y)\n",
    "\n",
    "my_function()\n",
    "print(\"Outside function:\", y)  # Output will be 25"
   ]
  },
  {
   "cell_type": "code",
   "execution_count": null,
   "id": "6c5f3b06-44c8-4066-8c3f-70c2fe76822b",
   "metadata": {},
   "outputs": [],
   "source": []
  },
  {
   "cell_type": "markdown",
   "id": "0f2d1c20-3b4b-4788-8cc9-7cadaae2a3a3",
   "metadata": {},
   "source": [
    "Write a Python program that demonstrates the use of global variables within functions."
   ]
  },
  {
   "cell_type": "markdown",
   "id": "0cc197f1-eaec-4010-9ec7-10f717cfe146",
   "metadata": {},
   "source": [
    "Ans."
   ]
  },
  {
   "cell_type": "code",
   "execution_count": 31,
   "id": "4cfda59b-6952-49e4-bf9f-6d081c390f08",
   "metadata": {},
   "outputs": [
    {
     "name": "stdout",
     "output_type": "stream",
     "text": [
      "Initial value of the global variable: 10\n",
      "Value of the global variable after modification: 15\n",
      "Value of the global variable: 15\n"
     ]
    }
   ],
   "source": [
    "# Define a global variable\n",
    "global_var = 10\n",
    "\n",
    "def modify_global():\n",
    "    \"\"\"\n",
    "    This function modifies the global variable.\n",
    "    \"\"\"\n",
    "    global global_var  # Using the global keyword to access the global variable\n",
    "    global_var += 5\n",
    "\n",
    "def print_global():\n",
    "    \"\"\"\n",
    "    This function prints the global variable.\n",
    "    \"\"\"\n",
    "    print(\"Value of the global variable:\", global_var)\n",
    "\n",
    "# Initial value of the global variable\n",
    "print(\"Initial value of the global variable:\", global_var)\n",
    "\n",
    "# Call the function to modify the global variable\n",
    "modify_global()\n",
    "\n",
    "# Print the modified value of the global variable\n",
    "print(\"Value of the global variable after modification:\", global_var)\n",
    "\n",
    "# Call the function to print the global variable\n",
    "print_global()\n"
   ]
  },
  {
   "cell_type": "code",
   "execution_count": null,
   "id": "b862d245-d79b-4068-8915-4efc21f93131",
   "metadata": {},
   "outputs": [],
   "source": []
  },
  {
   "cell_type": "markdown",
   "id": "f7fb0614-6cc9-4868-b1c6-263b4a2a0a84",
   "metadata": {},
   "source": [
    "Create a Python function that calculates the factorial of a number and returns it."
   ]
  },
  {
   "cell_type": "markdown",
   "id": "833e601b-c6da-4b9a-84c8-30405453ba38",
   "metadata": {},
   "source": [
    "Ans."
   ]
  },
  {
   "cell_type": "code",
   "execution_count": 30,
   "id": "4d5959c4-d6d9-4867-960e-c09474794bb6",
   "metadata": {},
   "outputs": [
    {
     "name": "stdout",
     "output_type": "stream",
     "text": [
      "The factorial of 5 is: 120\n"
     ]
    }
   ],
   "source": [
    "def factorial(n):\n",
    "    \"\"\"\n",
    "    Calculate the factorial of a non-negative integer n.\n",
    "    \"\"\"\n",
    "    # Base case: factorial of 0 is 1\n",
    "    if n == 0:\n",
    "        return 1\n",
    "    # Recursive case: factorial of n is n multiplied by factorial of (n-1)\n",
    "    else:\n",
    "        return n * factorial(n - 1)\n",
    "\n",
    "# Example usage:\n",
    "num = 5\n",
    "result = factorial(num)\n",
    "print(f\"The factorial of {num} is: {result}\")  # Output will be 120\n"
   ]
  },
  {
   "cell_type": "code",
   "execution_count": null,
   "id": "5e2c90a8-f830-46ca-9322-8d0a8e44a1cd",
   "metadata": {},
   "outputs": [],
   "source": []
  },
  {
   "cell_type": "markdown",
   "id": "c1874801-2191-4b06-9343-8a3530026f44",
   "metadata": {},
   "source": [
    "How can you access variables defined outside a function from within the function?\n"
   ]
  },
  {
   "cell_type": "markdown",
   "id": "ef2d97fe-c4a1-4558-9ca2-cd18818d8cf7",
   "metadata": {},
   "source": [
    "Ans."
   ]
  },
  {
   "cell_type": "code",
   "execution_count": 32,
   "id": "c56440c8-052b-4e7e-a9c5-bbab0aec82fd",
   "metadata": {},
   "outputs": [
    {
     "name": "stdout",
     "output_type": "stream",
     "text": [
      "Value of the global variable inside the function: 10\n"
     ]
    }
   ],
   "source": [
    "# Define a global variable\n",
    "global_var = 10\n",
    "\n",
    "def access_global_variable():\n",
    "    \"\"\"\n",
    "    This function accesses the global variable from within the function.\n",
    "    \"\"\"\n",
    "    global global_var\n",
    "    print(\"Value of the global variable inside the function:\", global_var)\n",
    "\n",
    "# Call the function\n",
    "access_global_variable()\n"
   ]
  },
  {
   "cell_type": "code",
   "execution_count": null,
   "id": "83f51751-f18a-45d5-b450-47c0dfdaf3dc",
   "metadata": {},
   "outputs": [],
   "source": []
  },
  {
   "cell_type": "markdown",
   "id": "bb30a299-6b5f-4fd7-ae49-3c57512c5182",
   "metadata": {},
   "source": [
    "Lambda Functions and Higher-Order Functions:"
   ]
  },
  {
   "cell_type": "markdown",
   "id": "0666e2e8-0c41-461d-aeb5-b46f4577f48e",
   "metadata": {},
   "source": [
    "What are lambda functions in Python, and when are they typically used?"
   ]
  },
  {
   "cell_type": "markdown",
   "id": "576eee8c-439d-4185-af62-f214aa1e50fa",
   "metadata": {},
   "source": [
    "Ans."
   ]
  },
  {
   "cell_type": "code",
   "execution_count": null,
   "id": "a0840c0b-f1fa-4392-82f2-4bd11d5b44cc",
   "metadata": {},
   "outputs": [],
   "source": [
    "\n",
    "In Python, a lambda function is a small, anonymous function defined using the lambda keyword. Lambda functions can take any number of arguments, but they can only have one expression.\n",
    "They are often used when you need a simple, one-line function that does not require a full function definition."
   ]
  },
  {
   "cell_type": "code",
   "execution_count": null,
   "id": "108d6473-94c1-442e-8f94-f1ceb3368a19",
   "metadata": {},
   "outputs": [],
   "source": []
  },
  {
   "cell_type": "markdown",
   "id": "f068af06-c1ba-42e2-a8bd-7e9b5984ce60",
   "metadata": {},
   "source": [
    "Write a Python program that uses lambda functions to sort a list of tuples based on the second element."
   ]
  },
  {
   "cell_type": "markdown",
   "id": "f1e54c4f-218e-41b6-9cb8-ee905b9c293e",
   "metadata": {},
   "source": [
    "Ans."
   ]
  },
  {
   "cell_type": "code",
   "execution_count": null,
   "id": "c7cad999-03c4-47e9-8d38-bf35e4ec5631",
   "metadata": {},
   "outputs": [],
   "source": [
    "# List of tuples\n",
    "data = [(1, 5), (2, 3), (3, 9), (4, 1), (5, 7)]\n",
    "\n",
    "# Sort the list based on the second element of each tuple\n",
    "sorted_data = sorted(data, key=lambda x: x[1])\n",
    "\n",
    "# Print the sorted list\n",
    "print(\"Sorted list based on the second element of each tuple:\")\n",
    "print(sorted_data)\n"
   ]
  },
  {
   "cell_type": "code",
   "execution_count": null,
   "id": "a043a1f2-952c-465c-8c20-830f66dcc4dc",
   "metadata": {},
   "outputs": [],
   "source": []
  },
  {
   "cell_type": "markdown",
   "id": "f27d922f-3679-4417-873e-83a9349d0559",
   "metadata": {},
   "source": [
    "Explain the concept of higher-order functions in Python, and provide an example."
   ]
  },
  {
   "cell_type": "markdown",
   "id": "00f8b5cc-d093-4070-b072-70c0b0538c6b",
   "metadata": {},
   "source": [
    "Ans."
   ]
  },
  {
   "cell_type": "code",
   "execution_count": 1,
   "id": "b179525f-89c2-4f0d-992e-0bb6b962319d",
   "metadata": {},
   "outputs": [
    {
     "name": "stdout",
     "output_type": "stream",
     "text": [
      "Squared numbers: [1, 4, 9, 16, 25]\n",
      "Cubed numbers: [1, 8, 27, 64, 125]\n"
     ]
    }
   ],
   "source": [
    "def apply_operation(operation, numbers):\n",
    "    \"\"\"\n",
    "    Apply the given operation to each number in the list.\n",
    "    \"\"\"\n",
    "    return [operation(num) for num in numbers]\n",
    "\n",
    "# Define some operations (functions)\n",
    "def square(x):\n",
    "    return x ** 2\n",
    "\n",
    "def cube(x):\n",
    "    return x ** 3\n",
    "\n",
    "# List of numbers\n",
    "numbers = [1, 2, 3, 4, 5]\n",
    "\n",
    "# Apply the square operation to the list of numbers\n",
    "squared_numbers = apply_operation(square, numbers)\n",
    "print(\"Squared numbers:\", squared_numbers)\n",
    "\n",
    "# Apply the cube operation to the list of numbers\n",
    "cubed_numbers = apply_operation(cube, numbers)\n",
    "print(\"Cubed numbers:\", cubed_numbers)\n"
   ]
  },
  {
   "cell_type": "code",
   "execution_count": null,
   "id": "570c286e-d6e3-4117-ae71-e77e417b9130",
   "metadata": {},
   "outputs": [],
   "source": []
  },
  {
   "cell_type": "markdown",
   "id": "63b4b07f-2860-4bd0-b88a-b94e328ca026",
   "metadata": {},
   "source": [
    "Create a Python function that takes a list of numbers and a function as arguments, applying the function to each element in the list.\n"
   ]
  },
  {
   "cell_type": "markdown",
   "id": "e7bbd2b3-0a04-41dd-8bdf-8090e7c6ba31",
   "metadata": {},
   "source": [
    "Ans."
   ]
  },
  {
   "cell_type": "code",
   "execution_count": 2,
   "id": "7a790933-f58f-4a3a-a6f3-3fc7270dfe25",
   "metadata": {},
   "outputs": [
    {
     "name": "stdout",
     "output_type": "stream",
     "text": [
      "Result: [2, 4, 6, 8, 10]\n"
     ]
    }
   ],
   "source": [
    "def apply_function_to_list(func, numbers):\n",
    "    \"\"\"\n",
    "    Apply the given function to each element in the list of numbers.\n",
    "    \"\"\"\n",
    "    return [func(num) for num in numbers]\n",
    "\n",
    "# Example usage:\n",
    "\n",
    "# Define a function to double a number\n",
    "def double(x):\n",
    "    return x * 2\n",
    "\n",
    "# List of numbers\n",
    "numbers = [1, 2, 3, 4, 5]\n",
    "\n",
    "# Apply the double function to the list of numbers\n",
    "result = apply_function_to_list(double, numbers)\n",
    "print(\"Result:\", result)\n",
    "\n"
   ]
  },
  {
   "cell_type": "code",
   "execution_count": null,
   "id": "c014741d-e6b4-4f6f-bb2b-6ab1629b7ed7",
   "metadata": {},
   "outputs": [],
   "source": []
  },
  {
   "cell_type": "raw",
   "id": "d558bfde-0377-4e92-83f4-b8f140ae6827",
   "metadata": {},
   "source": [
    "bulit in fucntion"
   ]
  },
  {
   "cell_type": "markdown",
   "id": "e2b49b98-e37f-4fb1-b55c-3e1e133c4f84",
   "metadata": {},
   "source": [
    "Describe the role of built-in functions like `len()`, `max()`, and `min()` in Python.\n"
   ]
  },
  {
   "cell_type": "markdown",
   "id": "97df3394-3b20-46f8-8de6-078950c6f7c0",
   "metadata": {},
   "source": [
    "Ans."
   ]
  },
  {
   "cell_type": "code",
   "execution_count": 1,
   "id": "d0610a0c-ae98-4dc5-8b0c-0a06a2398e18",
   "metadata": {},
   "outputs": [],
   "source": [
    "my_list = [1, 2, 3, 4, 5]\n",
    "length = len(my_list)  # length will be 5\n"
   ]
  },
  {
   "cell_type": "code",
   "execution_count": 2,
   "id": "445d533a-d028-4420-a625-0b40202790f9",
   "metadata": {},
   "outputs": [],
   "source": [
    "numbers = [10, 5, 20, 15]\n",
    "max_value = max(numbers)  # max_value will be 20\n"
   ]
  },
  {
   "cell_type": "code",
   "execution_count": 3,
   "id": "614e02d4-1db0-470e-b415-096f1c50d1d9",
   "metadata": {},
   "outputs": [],
   "source": [
    "numbers = [10, 5, 20, 15]\n",
    "min_value = min(numbers)  # min_value will be 5\n"
   ]
  },
  {
   "cell_type": "code",
   "execution_count": null,
   "id": "7b5e8eb8-2bfc-4cf9-be4f-9535042a0003",
   "metadata": {},
   "outputs": [],
   "source": []
  },
  {
   "cell_type": "markdown",
   "id": "d6f6469a-570b-4eee-a47c-c02de4b43212",
   "metadata": {},
   "source": [
    "Write a Python program that uses the `map()` function to apply a function to each element of a list"
   ]
  },
  {
   "cell_type": "markdown",
   "id": "712c16c0-c517-407b-8815-803b0fa0079e",
   "metadata": {},
   "source": [
    "Ans."
   ]
  },
  {
   "cell_type": "code",
   "execution_count": 4,
   "id": "d2581d35-6ff6-486d-b1a8-053adcc28679",
   "metadata": {},
   "outputs": [
    {
     "name": "stdout",
     "output_type": "stream",
     "text": [
      "Original list: [1, 2, 3, 4, 5]\n",
      "List after applying double function to each element: [2, 4, 6, 8, 10]\n"
     ]
    }
   ],
   "source": [
    "# Define a function to double a number\n",
    "def double(x):\n",
    "    return x * 2\n",
    "\n",
    "# List of numbers\n",
    "numbers = [1, 2, 3, 4, 5]\n",
    "\n",
    "# Use map() to apply the double function to each element of the list\n",
    "result = list(map(double, numbers))\n",
    "\n",
    "# Print the result\n",
    "print(\"Original list:\", numbers)\n",
    "print(\"List after applying double function to each element:\", result)\n"
   ]
  },
  {
   "cell_type": "code",
   "execution_count": null,
   "id": "6247c58d-cdff-4448-a05f-7bddc25e487c",
   "metadata": {},
   "outputs": [],
   "source": []
  },
  {
   "cell_type": "code",
   "execution_count": null,
   "id": "6abe7f5b-2557-4271-986c-2611a891fbc8",
   "metadata": {},
   "outputs": [],
   "source": []
  },
  {
   "cell_type": "markdown",
   "id": "48c8065e-066e-4a12-a65b-66790869bd56",
   "metadata": {},
   "source": [
    "Create a Python program that uses the `reduce()` function to find the product of all elements in a list."
   ]
  },
  {
   "cell_type": "markdown",
   "id": "3ba8086a-5abc-430e-b3cd-93da90afdcd3",
   "metadata": {},
   "source": [
    "Ans."
   ]
  },
  {
   "cell_type": "code",
   "execution_count": 5,
   "id": "1a593487-6cb7-42eb-8670-54825ef41e0b",
   "metadata": {},
   "outputs": [
    {
     "name": "stdout",
     "output_type": "stream",
     "text": [
      "List: [1, 2, 3, 4, 5]\n",
      "Product of all elements: 120\n"
     ]
    }
   ],
   "source": [
    "from functools import reduce\n",
    "\n",
    "# List of numbers\n",
    "numbers = [1, 2, 3, 4, 5]\n",
    "\n",
    "# Define a function to calculate the product of two numbers\n",
    "def multiply(x, y):\n",
    "    return x * y\n",
    "\n",
    "# Use reduce() to find the product of all elements in the list\n",
    "product = reduce(multiply, numbers)\n",
    "\n",
    "# Print the result\n",
    "print(\"List:\", numbers)\n",
    "print(\"Product of all elements:\", product)\n"
   ]
  },
  {
   "cell_type": "code",
   "execution_count": null,
   "id": "5825484c-0f3e-4460-bd14-e7c3a71709b8",
   "metadata": {},
   "outputs": [],
   "source": []
  },
  {
   "cell_type": "markdown",
   "id": "0899cb2d-4ca7-44fa-9472-d4cd4763f5c3",
   "metadata": {},
   "source": [
    "Function Documentation and Best Practices:\n"
   ]
  },
  {
   "cell_type": "raw",
   "id": "bfec8318-3fd7-482b-864f-650ff47bf9c8",
   "metadata": {},
   "source": [
    "Explain the purpose of docstrings in Python functions and how to write them."
   ]
  },
  {
   "cell_type": "raw",
   "id": "8f6cd529-6f8e-4dc6-a073-03691e120a08",
   "metadata": {},
   "source": [
    "Ans."
   ]
  },
  {
   "cell_type": "markdown",
   "id": "7af73cef-4696-48ae-81f5-785dee04f3ed",
   "metadata": {},
   "source": [
    "Documentation:\n",
    "\n",
    "Docstrings serve as documentation for functions, providing useful information about their purpose, parameters, return values, and any other relevant details.\n",
    "They help users understand how to use the function correctly without having to dive into the implementation details.\n",
    "\n",
    "Readability:\n",
    "\n",
    "Well-written docstrings improve code readability and maintainability by making it easier for other developers (and yourself) to understand the code's intent.\n",
    "They serve as a form of inline documentation, allowing readers to quickly grasp the functionality of a function without needing to inspect its implementation.\n",
    "\n",
    "Autogenerated Documentation:\n",
    "\n",
    "Docstrings can be automatically extracted to generate documentation in various formats, such as HTML, PDF, or plain text.\n",
    "Tools like Sphinx, Pydoc, and Doxygen can parse docstrings and generate comprehensive documentation for Python projects.\n",
    "\n",
    "Standardization:\n",
    "\n",
    "Following conventions for writing docstrings ensures consistency across different projects and makes it easier for developers to navigate and understand unfamiliar codebases."
   ]
  },
  {
   "cell_type": "code",
   "execution_count": null,
   "id": "6b1069e2-dfb7-489f-9533-e41c90c2b9bd",
   "metadata": {},
   "outputs": [],
   "source": []
  },
  {
   "cell_type": "markdown",
   "id": "8c3d89d8-fd81-4597-9271-fc9e762a4279",
   "metadata": {},
   "source": [
    "Describe some best practices for naming functions and variables in Python, including naming conventions and guidelines.\n"
   ]
  },
  {
   "cell_type": "markdown",
   "id": "b85fa1ef-2a30-4459-ae2c-f6b6f6907de0",
   "metadata": {},
   "source": [
    "Ans."
   ]
  },
  {
   "cell_type": "code",
   "execution_count": null,
   "id": "0f17fc54-7482-4733-8588-d24b81b71d62",
   "metadata": {},
   "outputs": [],
   "source": []
  }
 ],
 "metadata": {
  "kernelspec": {
   "display_name": "Python 3 (ipykernel)",
   "language": "python",
   "name": "python3"
  },
  "language_info": {
   "codemirror_mode": {
    "name": "ipython",
    "version": 3
   },
   "file_extension": ".py",
   "mimetype": "text/x-python",
   "name": "python",
   "nbconvert_exporter": "python",
   "pygments_lexer": "ipython3",
   "version": "3.10.8"
  }
 },
 "nbformat": 4,
 "nbformat_minor": 5
}
